{
 "cells": [
  {
   "cell_type": "code",
   "execution_count": 337,
   "metadata": {},
   "outputs": [],
   "source": [
    "import pickle\n",
    "import pandas as pd\n",
    "import matplotlib as plt\n",
    "import seaborn as sns\n",
    "import numpy as np\n",
    "from sklearn.model_selection import train_test_split, RandomizedSearchCV, GridSearchCV\n",
    "from sklearn import linear_model\n",
    "from sklearn.linear_model import LinearRegression\n",
    "from sklearn.metrics import mean_squared_error, r2_score\n",
    "from sklearn.preprocessing import PolynomialFeatures, SplineTransformer"
   ]
  },
  {
   "cell_type": "code",
   "execution_count": 338,
   "metadata": {},
   "outputs": [],
   "source": [
    "data = pd.read_csv('cleaneddata.csv')\n",
    "data['underweight'] = [1 if x < 17.85 else 0 for x in data['bmi']]\n",
    "data['normal']= [1 if x >= 17.85 and x<=30.5 else 0 for x in data['bmi']]\n",
    "data['overweight'] = [1 if x > 30.5 and x <= 37.5 else 0 for x in data['bmi']]\n",
    "data['severlyoverweight'] = [1 if x > 37.5 and x <= 45.5 else 0 for x in data['bmi']]\n",
    "data['ogre'] = [1 if x > 45.5 else 0 for x in data['bmi']]\n",
    "data['nokid'] = [1 if x ==0 else 0 for x in data['children']]\n",
    "data['onekid'] = [1 if x ==1 else 0 for x in data['children']]\n",
    "data['twokid'] = [1 if x ==2 else 0 for x in data['children']]\n",
    "data['threekid'] = [1 if x ==3 else 0 for x in data['children']]\n",
    "data['fourkid'] = [1 if x ==4 else 0 for x in data['children']]\n",
    "data['fivekid'] = [1 if x ==5 else 0 for x in data['children']]\n",
    "data['elderfemale'] = [1 if x > 60.75 and x else 0 for x in data['age']]\n",
    "data['middleagefemale'] = [1 if x <= 60.75 and x>47.5 else 0 for x in data['age']]\n",
    "data['youngerfemale'] = [1 if x <= 46.5 and x>42.5 else 0 for x in data['age']]\n",
    "data['youngfemale'] = [1 if x <= 38 and x>31 else 0 for x in data['age']]\n",
    "data['teens']= [1 if x <=21.5 else 0 for x in data['age']]\n",
    "data['test'] = [1 if x <= 31 and x>21.5 else 0 for x in data['age']]"
   ]
  },
  {
   "cell_type": "code",
   "execution_count": 339,
   "metadata": {},
   "outputs": [],
   "source": [
    "X = data[['smoker','normal', 'is_east','is_north','underweight', 'overweight','severlyoverweight','ogre','nokid', 'onekid', 'twokid','fourkid', 'fivekid','test','elderfemale','middleagefemale', 'youngerfemale', 'youngfemale', 'teens', 'sex']]\n",
    "y = data['charges']"
   ]
  },
  {
   "cell_type": "code",
   "execution_count": null,
   "metadata": {},
   "outputs": [
    {
     "name": "stdout",
     "output_type": "stream",
     "text": [
      "root mean squared error: 3126.412\n",
      "Coefficient of determination: 0.9326\n"
     ]
    }
   ],
   "source": [
    "poly = PolynomialFeatures(degree=2)\n",
    "poly_variables = poly.fit_transform(X)\n",
    "\n",
    "X_train, X_test, y_train, y_test = train_test_split(poly_variables, y, shuffle=True, train_size=0.85, random_state=42, stratify=X['smoker'])\n",
    "\n",
    "regression = linear_model.Lasso(alpha=13.27, tol=0.08)\n",
    "\n",
    "model = regression.fit(X_train, y_train)\n",
    "y_pred = model.predict(X_test)\n",
    "\n",
    "print(\"root mean squared error: %.3f\" % np.sqrt(mean_squared_error(y_test, y_pred)))\n",
    "print(\"Coefficient of determination: %.4f\" % r2_score(y_test, y_pred))"
   ]
  },
  {
   "cell_type": "code",
   "execution_count": 341,
   "metadata": {},
   "outputs": [],
   "source": [
    "with open('model.pkl','wb') as f:\n",
    "    pickle.dump(model,f)"
   ]
  }
 ],
 "metadata": {
  "kernelspec": {
   "display_name": ".venv",
   "language": "python",
   "name": "python3"
  },
  "language_info": {
   "codemirror_mode": {
    "name": "ipython",
    "version": 3
   },
   "file_extension": ".py",
   "mimetype": "text/x-python",
   "name": "python",
   "nbconvert_exporter": "python",
   "pygments_lexer": "ipython3",
   "version": "3.12.3"
  }
 },
 "nbformat": 4,
 "nbformat_minor": 2
}
