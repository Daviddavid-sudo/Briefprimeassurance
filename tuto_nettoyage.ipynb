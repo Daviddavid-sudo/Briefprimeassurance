{
 "cells": [
  {
   "cell_type": "code",
   "execution_count": null,
   "metadata": {},
   "outputs": [],
   "source": [
    "# Renommer\n",
    "\n",
    "df = df.rename(columns={\"ancien_nom\": \"nouveau_nom\"})"
   ]
  },
  {
   "cell_type": "code",
   "execution_count": null,
   "metadata": {},
   "outputs": [],
   "source": [
    "# Encoder (0,1) : Label Encoder\n",
    "\n",
    "label_encoder = preprocessing.LabelEncoder() \n",
    "df[\"genre\"]=label_encoder.fit_transform(df[\"genre\"])\n",
    "df[\"genre\"].unique()"
   ]
  },
  {
   "cell_type": "code",
   "execution_count": null,
   "metadata": {},
   "outputs": [],
   "source": [
    "# Encoder en divisant cellules : One Hot Encoder\n",
    "\n",
    "df[\"region\"].unique()\n",
    "encoder = OneHotEncoder(sparse_output=False)\n",
    "one_hot = encoder.fit_transform(df[['region']])\n",
    "regions_encoded = pd.DataFrame(one_hot, columns=encoder.get_feature_names_out(['region']))\n",
    "df = pd.concat([df, regions_encoded], axis=1)\n",
    "df = df.drop(columns=['region'])"
   ]
  },
  {
   "cell_type": "code",
   "execution_count": null,
   "metadata": {},
   "outputs": [],
   "source": [
    "# Connaître nb de lignes pour une condition\n",
    "\n",
    "df.query(\"age == 20\").shape[0]"
   ]
  },
  {
   "cell_type": "code",
   "execution_count": null,
   "metadata": {},
   "outputs": [],
   "source": [
    "# Connaître nb de lignes pour plusieurs conditions\n",
    "\n",
    "df.query(\"age == 20 and genre == 1 and/or region == 'Nord'\")"
   ]
  },
  {
   "cell_type": "code",
   "execution_count": null,
   "metadata": {},
   "outputs": [],
   "source": [
    "# Voir les lignes avec une condition\n",
    "\n",
    "df[df['age'] == 20]"
   ]
  },
  {
   "cell_type": "code",
   "execution_count": null,
   "metadata": {},
   "outputs": [],
   "source": [
    "# Voir les lignes avec plusieurs conditions\n",
    "\n",
    "df[(df[\"age\"] > 20) & (df[\"genre\"] == 1)]"
   ]
  },
  {
   "cell_type": "code",
   "execution_count": null,
   "metadata": {},
   "outputs": [],
   "source": [
    "# Connaître ensemble des valeurs uniques\n",
    "\n",
    "df[\"age\"].unique()"
   ]
  },
  {
   "cell_type": "code",
   "execution_count": null,
   "metadata": {},
   "outputs": [],
   "source": [
    "# Savoir si valeur est manquante\n",
    "\n",
    "df.isna().any()"
   ]
  },
  {
   "cell_type": "code",
   "execution_count": null,
   "metadata": {},
   "outputs": [],
   "source": [
    "# Savoir si valeur est double\n",
    "\n",
    "df.duplicated().any()"
   ]
  },
  {
   "cell_type": "code",
   "execution_count": null,
   "metadata": {},
   "outputs": [],
   "source": [
    "# Lister les doublons \n",
    "\n",
    "doublons = df[df.duplicated()]\n",
    "print(doublons)"
   ]
  },
  {
   "cell_type": "code",
   "execution_count": null,
   "metadata": {},
   "outputs": [],
   "source": [
    "# Supprimer un doublon\n",
    "\n",
    "df = df.drop(index=581, axis=0)"
   ]
  },
  {
   "cell_type": "code",
   "execution_count": null,
   "metadata": {},
   "outputs": [],
   "source": [
    "# Remplir une valeur manquante avec une valeur spécifique\n",
    "\n",
    "df[\"colonne\"] = df[\"colonne\"].fillna(valeur) "
   ]
  },
  {
   "cell_type": "code",
   "execution_count": null,
   "metadata": {},
   "outputs": [],
   "source": [
    "# Remplir une valeur manquante avec la moyenne\n",
    "\n",
    "df[\"colonne\"] = df[\"colonne\"].fillna(df[\"colonne\"].mean())"
   ]
  }
 ],
 "metadata": {
  "kernelspec": {
   "display_name": ".venv",
   "language": "python",
   "name": "python3"
  },
  "language_info": {
   "codemirror_mode": {
    "name": "ipython",
    "version": 3
   },
   "file_extension": ".py",
   "mimetype": "text/x-python",
   "name": "python",
   "nbconvert_exporter": "python",
   "pygments_lexer": "ipython3",
   "version": "3.12.3"
  }
 },
 "nbformat": 4,
 "nbformat_minor": 2
}
