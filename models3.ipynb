{
 "cells": [
  {
   "cell_type": "code",
   "execution_count": 738,
   "metadata": {},
   "outputs": [],
   "source": [
    "import pandas as pd\n",
    "import matplotlib as plt\n",
    "import seaborn as sns\n",
    "import numpy as np\n",
    "from sklearn.model_selection import train_test_split, RandomizedSearchCV, GridSearchCV\n",
    "from sklearn import linear_model\n",
    "from sklearn.linear_model import LinearRegression\n",
    "from sklearn.metrics import mean_squared_error, r2_score\n",
    "from sklearn.preprocessing import PolynomialFeatures, SplineTransformer"
   ]
  },
  {
   "cell_type": "code",
   "execution_count": 707,
   "metadata": {},
   "outputs": [],
   "source": [
    "data = pd.read_csv('cleaneddata.csv')\n",
    "data['underweight'] = [1 if x < 18 else 0 for x in data['bmi']]\n",
    "data['overweight'] = [1 if x > 31 and x <= 38 else 0 for x in data['bmi']]\n",
    "data['severlyoverweight'] = [1 if x > 38 else 0 for x in data['bmi']]\n",
    "data['nokid'] = [1 if x ==0 else 0 for x in data['children']]\n",
    "data['onekid'] = [1 if x ==1 else 0 for x in data['children']]\n",
    "data['twokid'] = [1 if x ==2 else 0 for x in data['children']]\n",
    "data['threekid'] = [1 if x ==3 else 0 for x in data['children']]\n",
    "data['fourkid'] = [1 if x ==4 else 0 for x in data['children']]\n",
    "data['fivekid'] = [1 if x ==5 else 0 for x in data['children']]\n",
    "data['kids'] = [1 if x in [1,2,3,4] else 0 for x in data['children']]\n",
    "data['elderfemale'] = [1 if x > 60 else 0 for x in data['age']]"
   ]
  },
  {
   "cell_type": "code",
   "execution_count": 708,
   "metadata": {},
   "outputs": [],
   "source": [
    "X = data[['smoker','age','is_east','bmi', 'is_north','underweight', 'overweight','severlyoverweight', 'nokid','kids', 'elderfemale']]\n",
    "y = data['charges']"
   ]
  },
  {
   "cell_type": "code",
   "execution_count": 709,
   "metadata": {},
   "outputs": [
    {
     "name": "stderr",
     "output_type": "stream",
     "text": [
      "/tmp/ipykernel_7380/181865680.py:1: SettingWithCopyWarning: \n",
      "A value is trying to be set on a copy of a slice from a DataFrame.\n",
      "Try using .loc[row_indexer,col_indexer] = value instead\n",
      "\n",
      "See the caveats in the documentation: https://pandas.pydata.org/pandas-docs/stable/user_guide/indexing.html#returning-a-view-versus-a-copy\n",
      "  X['bmi'] = (X['bmi'] - X['bmi'].mean())/X['bmi'].std()\n",
      "/tmp/ipykernel_7380/181865680.py:2: SettingWithCopyWarning: \n",
      "A value is trying to be set on a copy of a slice from a DataFrame.\n",
      "Try using .loc[row_indexer,col_indexer] = value instead\n",
      "\n",
      "See the caveats in the documentation: https://pandas.pydata.org/pandas-docs/stable/user_guide/indexing.html#returning-a-view-versus-a-copy\n",
      "  X['age'] = (X['age'] - X['age'].mean())/X['age'].std()\n"
     ]
    }
   ],
   "source": [
    "X['bmi'] = (X['bmi'] - X['bmi'].mean())/X['bmi'].std()\n",
    "X['age'] = (X['age'] - X['age'].mean())/X['age'].std()"
   ]
  },
  {
   "cell_type": "code",
   "execution_count": 710,
   "metadata": {},
   "outputs": [
    {
     "name": "stdout",
     "output_type": "stream",
     "text": [
      "root mean squared error: 4074.32\n",
      "Coefficient of determination: 0.91\n"
     ]
    }
   ],
   "source": [
    "poly = PolynomialFeatures(degree=2)\n",
    "poly_variables = poly.fit_transform(X)\n",
    "\n",
    "X_train, X_test, y_train, y_test = train_test_split(poly_variables, y, test_size = 0.2, random_state = 42)\n",
    "\n",
    "regression = linear_model.LinearRegression()\n",
    "\n",
    "model = regression.fit(X_train, y_train)\n",
    "y_pred = model.predict(X_test)\n",
    "\n",
    "\n",
    "print(\"root mean squared error: %.2f\" % np.sqrt(mean_squared_error(y_test, y_pred)))\n",
    "print(\"Coefficient of determination: %.2f\" % r2_score(y_test, y_pred))"
   ]
  },
  {
   "cell_type": "code",
   "execution_count": 744,
   "metadata": {},
   "outputs": [
    {
     "name": "stdout",
     "output_type": "stream",
     "text": [
      "root mean squared error: 6178.33\n",
      "Coefficient of determination: 0.79\n"
     ]
    }
   ],
   "source": [
    "poly = SplineTransformer(n_knots=4,degree=4)\n",
    "poly_variables = poly.fit_transform(X)\n",
    "\n",
    "X_train, X_test, y_train, y_test = train_test_split(poly_variables, y, test_size = 0.2, random_state = 42)\n",
    "\n",
    "regression = linear_model.LinearRegression()\n",
    "\n",
    "model = regression.fit(X_train, y_train)\n",
    "y_pred = model.predict(X_test)\n",
    "\n",
    "\n",
    "print(\"root mean squared error: %.2f\" % np.sqrt(mean_squared_error(y_test, y_pred)))\n",
    "print(\"Coefficient of determination: %.2f\" % r2_score(y_test, y_pred))"
   ]
  },
  {
   "cell_type": "code",
   "execution_count": 736,
   "metadata": {},
   "outputs": [
    {
     "name": "stdout",
     "output_type": "stream",
     "text": [
      "root mean squared error: 4172.48\n",
      "Coefficient of determination: 0.91\n"
     ]
    }
   ],
   "source": [
    "poly = PolynomialFeatures(degree=2)\n",
    "poly_variables = poly.fit_transform(X)\n",
    "\n",
    "X_train, X_test, y_train, y_test = train_test_split(poly_variables, y, test_size = 0.2, random_state = 42)\n",
    "\n",
    "regression = linear_model.Lasso(alpha=0.8, tol=0.08)\n",
    "\n",
    "model = regression.fit(X_train, y_train)\n",
    "y_pred = model.predict(X_test)\n",
    "\n",
    "print(\"root mean squared error: %.2f\" % np.sqrt(mean_squared_error(y_test, y_pred)))\n",
    "print(\"Coefficient of determination: %.2f\" % r2_score(y_test, y_pred))"
   ]
  },
  {
   "cell_type": "code",
   "execution_count": 732,
   "metadata": {},
   "outputs": [
    {
     "name": "stdout",
     "output_type": "stream",
     "text": [
      "root mean squared error: 4076.84\n",
      "Coefficient of determination: 0.91\n"
     ]
    }
   ],
   "source": [
    "poly = PolynomialFeatures(degree=2)\n",
    "poly_variables = poly.fit_transform(X)\n",
    "\n",
    "X_train, X_test, y_train, y_test = train_test_split(poly_variables, y, test_size = 0.2, random_state = 42)\n",
    "\n",
    "regression = linear_model.Ridge(alpha=0.1)\n",
    "\n",
    "model = regression.fit(X_train, y_train)\n",
    "y_pred = model.predict(X_test)\n",
    "\n",
    "\n",
    "print(\"root mean squared error: %.2f\" % np.sqrt(mean_squared_error(y_test, y_pred)))\n",
    "print(\"Coefficient of determination: %.2f\" % r2_score(y_test, y_pred))"
   ]
  },
  {
   "cell_type": "code",
   "execution_count": 713,
   "metadata": {},
   "outputs": [
    {
     "name": "stdout",
     "output_type": "stream",
     "text": [
      "root mean squared error: 4161.58\n",
      "Coefficient of determination: 0.91\n"
     ]
    }
   ],
   "source": [
    "poly = PolynomialFeatures(degree=2)\n",
    "poly_variables = poly.fit_transform(X)\n",
    "\n",
    "X_train, X_test, y_train, y_test = train_test_split(poly_variables, y, test_size = 0.2, random_state = 42)\n",
    "\n",
    "regression = linear_model.ElasticNet(alpha=0.031, l1_ratio=0.92, tol=0.08)\n",
    "\n",
    "model = regression.fit(X_train, y_train)\n",
    "y_pred = model.predict(X_test)\n",
    "\n",
    "print(\"root mean squared error: %.2f\" % np.sqrt(mean_squared_error(y_test, y_pred)))\n",
    "print(\"Coefficient of determination: %.2f\" % r2_score(y_test, y_pred))"
   ]
  },
  {
   "cell_type": "code",
   "execution_count": 718,
   "metadata": {},
   "outputs": [
    {
     "name": "stdout",
     "output_type": "stream",
     "text": [
      "root mean squared error: 4169.25\n",
      "Coefficient of determination: 0.91\n"
     ]
    }
   ],
   "source": [
    "poly = PolynomialFeatures(degree=2)\n",
    "poly_variables = poly.fit_transform(X)\n",
    "\n",
    "X_train, X_test, y_train, y_test = train_test_split(poly_variables, y, test_size = 0.2, random_state = 42)\n",
    "\n",
    "regression = linear_model.BayesianRidge(alpha_1=0.07, alpha_2= 0.07, lambda_1= 0.01, lambda_2=0.01)\n",
    "\n",
    "model = regression.fit(X_train, y_train)\n",
    "y_pred = model.predict(X_test)\n",
    "\n",
    "print(\"root mean squared error: %.2f\" % np.sqrt(mean_squared_error(y_test, y_pred)))\n",
    "print(\"Coefficient of determination: %.2f\" % r2_score(y_test, y_pred))"
   ]
  },
  {
   "cell_type": "code",
   "execution_count": 721,
   "metadata": {},
   "outputs": [
    {
     "name": "stdout",
     "output_type": "stream",
     "text": [
      "root mean squared error: 4288.23\n",
      "Coefficient of determination: 0.90\n"
     ]
    }
   ],
   "source": [
    "poly = PolynomialFeatures(degree=2)\n",
    "poly_variables = poly.fit_transform(X)\n",
    "\n",
    "X_train, X_test, y_train, y_test = train_test_split(poly_variables, y, test_size = 0.2, random_state = 42)\n",
    "\n",
    "regression = linear_model.RANSACRegressor()\n",
    "\n",
    "model = regression.fit(X_train, y_train)\n",
    "y_pred = model.predict(X_test)\n",
    "\n",
    "print(\"root mean squared error: %.2f\" % np.sqrt(mean_squared_error(y_test, y_pred)))\n",
    "print(\"Coefficient of determination: %.2f\" % r2_score(y_test, y_pred))"
   ]
  },
  {
   "cell_type": "code",
   "execution_count": 733,
   "metadata": {},
   "outputs": [
    {
     "name": "stdout",
     "output_type": "stream",
     "text": [
      "root mean squared error: 4262.80\n",
      "Coefficient of determination: 0.90\n"
     ]
    }
   ],
   "source": [
    "poly = PolynomialFeatures(degree=2)\n",
    "poly_variables = poly.fit_transform(X)\n",
    "\n",
    "X_train, X_test, y_train, y_test = train_test_split(poly_variables, y, test_size = 0.2, random_state = 42)\n",
    "\n",
    "regression = linear_model.SGDRegressor()\n",
    "\n",
    "model = regression.fit(X_train, y_train)\n",
    "y_pred = model.predict(X_test)\n",
    "\n",
    "print(\"root mean squared error: %.2f\" % np.sqrt(mean_squared_error(y_test, y_pred)))\n",
    "print(\"Coefficient of determination: %.2f\" % r2_score(y_test, y_pred))"
   ]
  }
 ],
 "metadata": {
  "kernelspec": {
   "display_name": ".venv",
   "language": "python",
   "name": "python3"
  },
  "language_info": {
   "codemirror_mode": {
    "name": "ipython",
    "version": 3
   },
   "file_extension": ".py",
   "mimetype": "text/x-python",
   "name": "python",
   "nbconvert_exporter": "python",
   "pygments_lexer": "ipython3",
   "version": "3.12.3"
  }
 },
 "nbformat": 4,
 "nbformat_minor": 2
}
