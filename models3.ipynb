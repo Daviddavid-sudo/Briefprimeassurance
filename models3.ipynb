{
 "cells": [
  {
   "cell_type": "code",
   "execution_count": 55,
   "metadata": {},
   "outputs": [],
   "source": [
    "import pandas as pd\n",
    "import matplotlib as plt\n",
    "import seaborn as sns\n",
    "import numpy as np\n",
    "from sklearn.model_selection import train_test_split, RandomizedSearchCV, GridSearchCV\n",
    "from sklearn import linear_model\n",
    "from sklearn.linear_model import LinearRegression\n",
    "from sklearn.metrics import mean_squared_error, r2_score, max_error\n",
    "from sklearn.preprocessing import PolynomialFeatures, SplineTransformer, RobustScaler"
   ]
  },
  {
   "cell_type": "code",
   "execution_count": 56,
   "metadata": {},
   "outputs": [],
   "source": [
    "data = pd.read_csv('cleaneddata.csv')\n",
    "data['underweight'] = [1 if x < 18 else 0 for x in data['bmi']]\n",
    "data['overweight'] = [1 if x > 31 and x <= 38 else 0 for x in data['bmi']]\n",
    "data['severlyoverweight'] = [1 if x > 38 else 0 for x in data['bmi']]\n",
    "data['nokid'] = [1 if x ==0 else 0 for x in data['children']]\n",
    "data['onekid'] = [1 if x ==1 else 0 for x in data['children']]\n",
    "data['twokid'] = [1 if x ==2 else 0 for x in data['children']]\n",
    "data['threekid'] = [1 if x ==3 else 0 for x in data['children']]\n",
    "data['fourkid'] = [1 if x ==4 else 0 for x in data['children']]\n",
    "data['fivekid'] = [1 if x ==5 else 0 for x in data['children']]\n",
    "data['kids'] = [1 if x in [1,2,3,4] else 0 for x in data['children']]\n",
    "data['elderfemale'] = [1 if x > 60 else 0 for x in data['age']]"
   ]
  },
  {
   "cell_type": "code",
   "execution_count": 57,
   "metadata": {},
   "outputs": [],
   "source": [
    "X = data[['smoker','age','is_east','bmi', 'is_north','underweight', 'overweight','severlyoverweight', 'nokid','kids', 'elderfemale']]\n",
    "y = data['charges']"
   ]
  },
  {
   "cell_type": "code",
   "execution_count": 58,
   "metadata": {},
   "outputs": [
    {
     "name": "stderr",
     "output_type": "stream",
     "text": [
      "/tmp/ipykernel_19385/3928648480.py:11: SettingWithCopyWarning: \n",
      "A value is trying to be set on a copy of a slice from a DataFrame.\n",
      "Try using .loc[row_indexer,col_indexer] = value instead\n",
      "\n",
      "See the caveats in the documentation: https://pandas.pydata.org/pandas-docs/stable/user_guide/indexing.html#returning-a-view-versus-a-copy\n",
      "  X['bmi'] = (X['bmi'] - X['bmi'].median())/X['bmi'].std()\n",
      "/tmp/ipykernel_19385/3928648480.py:12: SettingWithCopyWarning: \n",
      "A value is trying to be set on a copy of a slice from a DataFrame.\n",
      "Try using .loc[row_indexer,col_indexer] = value instead\n",
      "\n",
      "See the caveats in the documentation: https://pandas.pydata.org/pandas-docs/stable/user_guide/indexing.html#returning-a-view-versus-a-copy\n",
      "  X['age'] = (X['age'] - X['age'].median())/X['age'].std()\n"
     ]
    }
   ],
   "source": [
    "# X['bmi'] = (X['bmi'] - X['bmi'].mean())/X['bmi'].std()\n",
    "# X['age'] = (X['age'] - X['age'].mean())/X['age'].std()\n",
    "# Q1 = X['bmi'].quantile(0.25)\n",
    "# Q3 = X['bmi'].quantile(0.75)\n",
    "# IQR = Q3 - Q1\n",
    "# Q12 = X['age'].quantile(0.25)\n",
    "# Q32 = X['age'].quantile(0.75)\n",
    "# IQR2 = Q32 - Q12\n",
    "# X['bmi'] = (X['bmi'] - X['bmi'].median())/IQR\n",
    "# X['age'] = (X['age'] - X['age'].median())/IQR2\n",
    "X['bmi'] = (X['bmi'] - X['bmi'].median())/X['bmi'].std()\n",
    "X['age'] = (X['age'] - X['age'].median())/X['age'].std()"
   ]
  },
  {
   "cell_type": "code",
   "execution_count": 59,
   "metadata": {},
   "outputs": [
    {
     "name": "stdout",
     "output_type": "stream",
     "text": [
      "4614.374609619625\n",
      "Coefficient of determination: 0.84\n",
      "18204.815658396863\n",
      "root mean squared error: 4074.32\n",
      "Coefficient of determination: 0.91\n"
     ]
    }
   ],
   "source": [
    "poly = PolynomialFeatures(degree=2)\n",
    "poly_variables = poly.fit_transform(X)\n",
    "\n",
    "X_train, X_test, y_train, y_test = train_test_split(poly_variables, y, test_size = 0.2, random_state = 42)\n",
    "\n",
    "regression = linear_model.LinearRegression()\n",
    "\n",
    "model = regression.fit(X_train, y_train)\n",
    "y_pred = model.predict(X_test)\n",
    "y_predtrain = model.predict(X_train)\n",
    "\n",
    "print(np.sqrt(mean_squared_error(y_train, y_predtrain)))\n",
    "print(\"Coefficient of determination: %.2f\" % r2_score(y_train, y_predtrain))\n",
    "print(max_error(y_test,y_pred))\n",
    "print(\"root mean squared error: %.2f\" % np.sqrt(mean_squared_error(y_test, y_pred)))\n",
    "print(\"Coefficient of determination: %.2f\" % r2_score(y_test, y_pred))"
   ]
  },
  {
   "cell_type": "code",
   "execution_count": 60,
   "metadata": {},
   "outputs": [
    {
     "name": "stdout",
     "output_type": "stream",
     "text": [
      "5938.189170785875\n",
      "Coefficient of determination: 0.74\n",
      "root mean squared error: 6178.33\n",
      "Coefficient of determination: 0.79\n"
     ]
    }
   ],
   "source": [
    "poly = SplineTransformer(n_knots=4,degree=4)\n",
    "poly_variables = poly.fit_transform(X)\n",
    "\n",
    "X_train, X_test, y_train, y_test = train_test_split(poly_variables, y, test_size = 0.2, random_state = 42)\n",
    "\n",
    "regression = linear_model.LinearRegression()\n",
    "\n",
    "model = regression.fit(X_train, y_train)\n",
    "y_pred = model.predict(X_test)\n",
    "y_predtrain = model.predict(X_train)\n",
    "\n",
    "print(np.sqrt(mean_squared_error(y_train, y_predtrain)))\n",
    "print(\"Coefficient of determination: %.2f\" % r2_score(y_train, y_predtrain))\n",
    "\n",
    "print(\"root mean squared error: %.2f\" % np.sqrt(mean_squared_error(y_test, y_pred)))\n",
    "print(\"Coefficient of determination: %.2f\" % r2_score(y_test, y_pred))"
   ]
  },
  {
   "cell_type": "code",
   "execution_count": 61,
   "metadata": {},
   "outputs": [
    {
     "name": "stdout",
     "output_type": "stream",
     "text": [
      "4686.113077706826\n",
      "Coefficient of determination: 0.84\n",
      "root mean squared error: 4177.84\n",
      "Coefficient of determination: 0.91\n"
     ]
    }
   ],
   "source": [
    "poly = PolynomialFeatures(degree=2)\n",
    "poly_variables = poly.fit_transform(X)\n",
    "\n",
    "X_train, X_test, y_train, y_test = train_test_split(poly_variables, y, test_size = 0.2, random_state = 42)\n",
    "\n",
    "regression = linear_model.Lasso(alpha=0.8, tol=0.08)\n",
    "\n",
    "model = regression.fit(X_train, y_train)\n",
    "y_pred = model.predict(X_test)\n",
    "y_predtrain = model.predict(X_train)\n",
    "\n",
    "print(np.sqrt(mean_squared_error(y_train, y_predtrain)))\n",
    "print(\"Coefficient of determination: %.2f\" % r2_score(y_train, y_predtrain))\n",
    "print(\"root mean squared error: %.2f\" % np.sqrt(mean_squared_error(y_test, y_pred)))\n",
    "print(\"Coefficient of determination: %.2f\" % r2_score(y_test, y_pred))"
   ]
  },
  {
   "cell_type": "code",
   "execution_count": 62,
   "metadata": {},
   "outputs": [
    {
     "name": "stdout",
     "output_type": "stream",
     "text": [
      "4615.306346757694\n",
      "Coefficient of determination: 0.84\n",
      "root mean squared error: 4076.73\n",
      "Coefficient of determination: 0.91\n"
     ]
    }
   ],
   "source": [
    "poly = PolynomialFeatures(degree=2)\n",
    "poly_variables = poly.fit_transform(X)\n",
    "\n",
    "X_train, X_test, y_train, y_test = train_test_split(poly_variables, y, test_size = 0.2, random_state = 42)\n",
    "\n",
    "regression = linear_model.Ridge(alpha=0.1)\n",
    "\n",
    "model = regression.fit(X_train, y_train)\n",
    "y_pred = model.predict(X_test)\n",
    "\n",
    "y_predtrain = model.predict(X_train)\n",
    "\n",
    "print(np.sqrt(mean_squared_error(y_train, y_predtrain)))\n",
    "print(\"Coefficient of determination: %.2f\" % r2_score(y_train, y_predtrain))\n",
    "print(\"root mean squared error: %.2f\" % np.sqrt(mean_squared_error(y_test, y_pred)))\n",
    "print(\"Coefficient of determination: %.2f\" % r2_score(y_test, y_pred))"
   ]
  },
  {
   "cell_type": "code",
   "execution_count": 63,
   "metadata": {},
   "outputs": [
    {
     "name": "stdout",
     "output_type": "stream",
     "text": [
      "4637.657562453623\n",
      "Coefficient of determination: 0.84\n",
      "root mean squared error: 4161.16\n",
      "Coefficient of determination: 0.91\n"
     ]
    }
   ],
   "source": [
    "poly = PolynomialFeatures(degree=2)\n",
    "poly_variables = poly.fit_transform(X)\n",
    "\n",
    "X_train, X_test, y_train, y_test = train_test_split(poly_variables, y, test_size = 0.2, random_state = 42)\n",
    "\n",
    "regression = linear_model.ElasticNet(alpha=0.031, l1_ratio=0.92, tol=0.08)\n",
    "\n",
    "model = regression.fit(X_train, y_train)\n",
    "y_pred = model.predict(X_test)\n",
    "y_predtrain = model.predict(X_train)\n",
    "\n",
    "print(np.sqrt(mean_squared_error(y_train, y_predtrain)))\n",
    "print(\"Coefficient of determination: %.2f\" % r2_score(y_train, y_predtrain))\n",
    "print(\"root mean squared error: %.2f\" % np.sqrt(mean_squared_error(y_test, y_pred)))\n",
    "print(\"Coefficient of determination: %.2f\" % r2_score(y_test, y_pred))"
   ]
  },
  {
   "cell_type": "code",
   "execution_count": 64,
   "metadata": {},
   "outputs": [
    {
     "name": "stdout",
     "output_type": "stream",
     "text": [
      "4639.70178856866\n",
      "Coefficient of determination: 0.84\n",
      "root mean squared error: 4169.56\n",
      "Coefficient of determination: 0.91\n"
     ]
    }
   ],
   "source": [
    "poly = PolynomialFeatures(degree=2)\n",
    "poly_variables = poly.fit_transform(X)\n",
    "\n",
    "X_train, X_test, y_train, y_test = train_test_split(poly_variables, y, test_size = 0.2, random_state = 42)\n",
    "\n",
    "regression = linear_model.BayesianRidge(alpha_1=0.07, alpha_2= 0.07, lambda_1= 0.01, lambda_2=0.01)\n",
    "\n",
    "model = regression.fit(X_train, y_train)\n",
    "y_pred = model.predict(X_test)\n",
    "y_predtrain = model.predict(X_train)\n",
    "\n",
    "print(np.sqrt(mean_squared_error(y_train, y_predtrain)))\n",
    "print(\"Coefficient of determination: %.2f\" % r2_score(y_train, y_predtrain))\n",
    "print(\"root mean squared error: %.2f\" % np.sqrt(mean_squared_error(y_test, y_pred)))\n",
    "print(\"Coefficient of determination: %.2f\" % r2_score(y_test, y_pred))"
   ]
  },
  {
   "cell_type": "code",
   "execution_count": 65,
   "metadata": {},
   "outputs": [
    {
     "name": "stdout",
     "output_type": "stream",
     "text": [
      "root mean squared error: 4427.72\n",
      "Coefficient of determination: 0.89\n"
     ]
    }
   ],
   "source": [
    "poly = PolynomialFeatures(degree=2)\n",
    "poly_variables = poly.fit_transform(X)\n",
    "\n",
    "X_train, X_test, y_train, y_test = train_test_split(poly_variables, y, test_size = 0.2, random_state = 42)\n",
    "\n",
    "regression = linear_model.RANSACRegressor()\n",
    "\n",
    "model = regression.fit(X_train, y_train)\n",
    "y_pred = model.predict(X_test)\n",
    "\n",
    "print(\"root mean squared error: %.2f\" % np.sqrt(mean_squared_error(y_test, y_pred)))\n",
    "print(\"Coefficient of determination: %.2f\" % r2_score(y_test, y_pred))"
   ]
  },
  {
   "cell_type": "code",
   "execution_count": 66,
   "metadata": {},
   "outputs": [
    {
     "name": "stdout",
     "output_type": "stream",
     "text": [
      "root mean squared error: 4250.36\n",
      "Coefficient of determination: 0.90\n"
     ]
    }
   ],
   "source": [
    "poly = PolynomialFeatures(degree=2)\n",
    "poly_variables = poly.fit_transform(X)\n",
    "\n",
    "X_train, X_test, y_train, y_test = train_test_split(poly_variables, y, test_size = 0.2, random_state = 42)\n",
    "\n",
    "regression = linear_model.SGDRegressor()\n",
    "\n",
    "model = regression.fit(X_train, y_train)\n",
    "y_pred = model.predict(X_test)\n",
    "\n",
    "print(\"root mean squared error: %.2f\" % np.sqrt(mean_squared_error(y_test, y_pred)))\n",
    "print(\"Coefficient of determination: %.2f\" % r2_score(y_test, y_pred))"
   ]
  }
 ],
 "metadata": {
  "kernelspec": {
   "display_name": ".venv",
   "language": "python",
   "name": "python3"
  },
  "language_info": {
   "codemirror_mode": {
    "name": "ipython",
    "version": 3
   },
   "file_extension": ".py",
   "mimetype": "text/x-python",
   "name": "python",
   "nbconvert_exporter": "python",
   "pygments_lexer": "ipython3",
   "version": "3.12.3"
  }
 },
 "nbformat": 4,
 "nbformat_minor": 2
}
