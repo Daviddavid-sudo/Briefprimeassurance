{
 "cells": [
  {
   "cell_type": "code",
   "execution_count": 1,
   "metadata": {},
   "outputs": [],
   "source": [
    "from sklearn.model_selection import train_test_split, GridSearchCV\n",
    "from sklearn import metrics, linear_model\n",
    "from sklearn.linear_model import LinearRegression, Ridge, RidgeCV, Lasso, ElasticNet\n",
    "from sklearn.metrics import mean_squared_error, r2_score, mean_absolute_error \n",
    "from sklearn.dummy import DummyRegressor \n",
    "from sklearn.preprocessing import PolynomialFeatures\n",
    "import pandas as pd\n",
    "import matplotlib.pyplot as plt\n",
    "import seaborn as sns\n",
    "import numpy as np"
   ]
  },
  {
   "cell_type": "code",
   "execution_count": 2,
   "metadata": {},
   "outputs": [],
   "source": [
    "df = pd.read_csv(\"dataset_cleaned.csv\")"
   ]
  },
  {
   "cell_type": "code",
   "execution_count": 4,
   "metadata": {},
   "outputs": [
    {
     "data": {
      "text/plain": [
       "Index(['age', 'genre', 'IMC', 'enfants', 'fumeur', 'charges',\n",
       "       'region_northeast', 'region_northwest', 'region_southeast',\n",
       "       'region_southwest'],\n",
       "      dtype='object')"
      ]
     },
     "execution_count": 4,
     "metadata": {},
     "output_type": "execute_result"
    }
   ],
   "source": [
    "df.columns"
   ]
  },
  {
   "cell_type": "code",
   "execution_count": 5,
   "metadata": {},
   "outputs": [],
   "source": [
    "X = df[['age', 'genre', 'IMC', 'enfants', 'fumeur', 'region_northeast', 'region_northwest', 'region_southeast', 'region_southwest']] # Variables explicatives\n",
    "y = df[\"charges\"]  # Variable cible"
   ]
  },
  {
   "cell_type": "code",
   "execution_count": 6,
   "metadata": {},
   "outputs": [],
   "source": [
    "X_train, X_test, y_train, y_test = train_test_split(X, y, test_size=0.2, random_state=42)"
   ]
  },
  {
   "cell_type": "markdown",
   "metadata": {},
   "source": [
    "## Dummy modèle"
   ]
  },
  {
   "cell_type": "code",
   "execution_count": 10,
   "metadata": {},
   "outputs": [],
   "source": [
    "#modele tres simple de reference\n",
    "#ne cherche pas à comprendre les données ou faire analyse complexes\n",
    "#predit de maniere basique la meme valeur en sa basant sur moyenne/médiane\n",
    "#son but : avoir un pt de comparaison avec un modele plus complexe\n",
    "#si modele plus complexe ne fait pas mieux : il n'a pas bien appris ou données inutiles\n"
   ]
  },
  {
   "cell_type": "code",
   "execution_count": 4,
   "metadata": {},
   "outputs": [],
   "source": [
    "X_train, X_test, y_train, y_test = train_test_split(X, y, test_size=0.2, random_state=42)\n",
    "#séparation des données\n",
    "#test_size = repartition des données entre train/test\n",
    "#random_state = \"seed\" pour obtenir la même division entre test/train à chaque execution"
   ]
  },
  {
   "cell_type": "code",
   "execution_count": 12,
   "metadata": {},
   "outputs": [],
   "source": [
    "dummy_mean = DummyRegressor(strategy = 'mean')\n",
    "#création du modele qui prédira moyenne de la valeur cible (y_train)"
   ]
  },
  {
   "cell_type": "code",
   "execution_count": null,
   "metadata": {},
   "outputs": [],
   "source": [
    "dummy_mean.fit(X_train, y_train)\n",
    "#calcule de la moyenne de la variable cible\n",
    "#la mémorise comme sa prédiction pour toute entrée future\n",
    "#ne tient pas compte des variables explicatives (X_train)\n",
    "#a ce stade, aucune relation entre les deux X_train / y_train\n"
   ]
  },
  {
   "cell_type": "code",
   "execution_count": 14,
   "metadata": {},
   "outputs": [],
   "source": [
    "y_pred_dummy = dummy_mean.predict(X_test)\n",
    "#predit les valeurs pour X_test\n",
    "#mais comme le modele utilise \"mean\" : retourne la même valeur de y_train pour chaque X_test"
   ]
  },
  {
   "cell_type": "code",
   "execution_count": null,
   "metadata": {},
   "outputs": [],
   "source": [
    "#evaluation du modele\n",
    "mae = mean_absolute_error(y_test, y_pred_dummy)\n",
    "mse = mean_squared_error(y_test, y_pred_dummy)\n",
    "r2 = r2_score(y_test, y_pred_dummy)\n",
    "\n",
    "print(f\"MAE (Dummy): {mae}\")\n",
    "print(f\"MSE (Dummy): {mse}\")\n",
    "print(f\"R² (Dummy): {r2}\")"
   ]
  },
  {
   "cell_type": "markdown",
   "metadata": {},
   "source": [
    "## RL"
   ]
  },
  {
   "cell_type": "code",
   "execution_count": 16,
   "metadata": {},
   "outputs": [],
   "source": [
    "#création d'une instance\n",
    "regressor = LinearRegression()\n"
   ]
  },
  {
   "cell_type": "code",
   "execution_count": 17,
   "metadata": {},
   "outputs": [],
   "source": [
    "X_train, X_test, y_train, y_test = train_test_split(X, y, test_size=0.2, random_state=42)"
   ]
  },
  {
   "cell_type": "code",
   "execution_count": null,
   "metadata": {},
   "outputs": [],
   "source": [
    "regressor.fit(X_train, y_train) \n",
    "#entrainement du modele avec données d'entrainement\n"
   ]
  },
  {
   "cell_type": "code",
   "execution_count": null,
   "metadata": {},
   "outputs": [],
   "source": [
    "print(regressor.coef_) \n",
    "#coefficients du modele de regression : les poids associés à chaque var explicative : theta1,theta2...\n",
    "print(regressor.intercept_) \n",
    "#ordonné à l'origine : theta0 : valeur de y lorsque les var expl sont a 0"
   ]
  },
  {
   "cell_type": "code",
   "execution_count": null,
   "metadata": {},
   "outputs": [],
   "source": [
    "# Ajouter y dans le dataframe pour inclure la variable cible\n",
    "df['charges'] = y\n",
    "\n",
    "# Matrice de corrélation\n",
    "corr_matrix = df.corr()\n",
    "\n",
    "sns.heatmap(corr_matrix[['charges']], annot=True, cmap='coolwarm')\n",
    "plt.title('Corrélations avec Charges')\n",
    "plt.show()\n",
    "\n",
    "#matrice de corrélation pour : \n",
    "#   identifier dépendances entre variables\n",
    "#   reperer variable multicolinéaires : coef trop proche de 1 ou -1 : pose probleme à RL\n",
    "#   selectionner variables importances\n",
    "#   comprendre patterns des données\n"
   ]
  },
  {
   "cell_type": "code",
   "execution_count": null,
   "metadata": {},
   "outputs": [],
   "source": [
    "ordonne = np.linspace(0,15,1000)\n",
    "plt.plot(ordonne, regressor.coef_[0]*ordonne+regressor.intercept_,color=\"r\")\n",
    "#coef de la droite : regressor.coef ; ordonne a l'origine : regressor_intercept"
   ]
  },
  {
   "cell_type": "code",
   "execution_count": 22,
   "metadata": {},
   "outputs": [],
   "source": [
    "#prediction sur la base test\n",
    "y_predict = regressor.predict(X_test)"
   ]
  },
  {
   "cell_type": "code",
   "execution_count": null,
   "metadata": {},
   "outputs": [],
   "source": [
    "#metrique\n",
    "#comparaison entre y_predict et y_test(valeur réelles) pour évaluer performance du modele\n",
    "\n",
    "print(\"MAE:\", metrics.mean_absolute_error(y_test, y_predict))\n",
    "print(\"MSE:\", metrics.mean_squared_error(y_test, y_predict))\n",
    "print(\"RMSE:\", np.sqrt(metrics.mean_squared_error(y_test, y_predict))) #racine carré MSE\n",
    "print(\"R²:\", metrics.r2_score(y_test, y_predict))"
   ]
  },
  {
   "cell_type": "code",
   "execution_count": null,
   "metadata": {},
   "outputs": [],
   "source": [
    "plt.scatter(y_test, y_predict, alpha=0.6)\n",
    "plt.plot([y_test.min(), y_test.max()], [y_test.min(), y_test.max()], color='red', linestyle='--')  # Ligne idéale\n",
    "plt.xlabel(\"Valeurs réelles (y_test)\")\n",
    "plt.ylabel(\"Valeurs prédites (y_pred)\")\n",
    "plt.title(\"Réelles vs Prédites\")\n",
    "plt.show()\n",
    "\n",
    "#+ pts sont alignés sur ligne rouge + modele est précis\n"
   ]
  },
  {
   "cell_type": "code",
   "execution_count": null,
   "metadata": {},
   "outputs": [],
   "source": [
    "residus = y_test - y_predict\n",
    "plt.scatter(y_predict, residus, alpha=0.6)\n",
    "plt.axhline(0, color='red', linestyle='--')  # Ligne des résidus nuls\n",
    "plt.xlabel(\"Valeurs prédites\")\n",
    "plt.ylabel(\"Résidus\")\n",
    "plt.title(\"Analyse des Résidus\")\n",
    "plt.show()\n",
    "\n",
    "#pour examiser erreur de prediction\n",
    "#y_test = valeur réelle de variable cible\n",
    "#y_predict = valeur prédites \n",
    "#residus = écart entre valeur réelles/prédites\n",
    "#+ résidus sont proche de 0 + prédiction est bonne\n",
    "#si répartis autour ligne rouge (résidus nuls) : pas de biais systematique et erreur sont aléatoires\n",
    "#biais systematique : peu importe les données modele va donner sous estimer systématiquement"
   ]
  },
  {
   "cell_type": "markdown",
   "metadata": {},
   "source": [
    "## Ridge"
   ]
  },
  {
   "cell_type": "code",
   "execution_count": null,
   "metadata": {},
   "outputs": [],
   "source": [
    "X = PolynomialFeatures(degree = 2, include_bias=False).fit_transform(X)"
   ]
  },
  {
   "cell_type": "code",
   "execution_count": null,
   "metadata": {},
   "outputs": [],
   "source": [
    "ridge = RidgeCV(alphas=[0.1, 1.0, 10.0, 100.0], cv=5).fit(X_train, y_train)\n",
    "print(\"Meilleur alpha :\", ridge.alpha_)\n",
    "\n",
    "#ridgeCV : variante de ridge qui inclut validation croisée pour determiner la meilleure valeur de alpha\n",
    "#alpha : minimise erreur de prediction sur données de test pendant entrainement \n",
    "#cv : nb de plis dans la validation croisée, 4 pour entrainement 1 pour validation\n",
    "#cv permet de choisir le meilleur alpha en fonction des résultats"
   ]
  },
  {
   "cell_type": "code",
   "execution_count": null,
   "metadata": {},
   "outputs": [],
   "source": [
    "model = Ridge(alpha=1.0, random_state=42)\n",
    "model.fit(X_train, y_train)"
   ]
  },
  {
   "cell_type": "code",
   "execution_count": 16,
   "metadata": {},
   "outputs": [],
   "source": [
    "y_pred = model.predict(X_test)"
   ]
  },
  {
   "cell_type": "code",
   "execution_count": null,
   "metadata": {},
   "outputs": [],
   "source": [
    "print('MAE:', mean_absolute_error(y_test, y_pred))\n",
    "print('MSE:', mean_squared_error(y_test, y_pred))\n",
    "print('Coefficient R2:', model.score(X_test, y_test))\n"
   ]
  },
  {
   "cell_type": "code",
   "execution_count": null,
   "metadata": {},
   "outputs": [],
   "source": [
    "#RidgeCV : que pour alpha\n",
    "#GridSearchCV : approche plus générale pour optmiser plusieurs hyperparamètres\n",
    "\n",
    "# Grille d'hyperparamètres\n",
    "parametre = {'alpha': [0.1, 1.0, 10.0, 100.0]} \n",
    "\n",
    "# Initialisation du modèle\n",
    "ridge = Ridge(random_state=0)\n",
    "\n",
    "# Configuration de GridSearchCV\n",
    "grid = GridSearchCV(estimator=ridge, param_grid=parametre, cv=5, scoring='neg_mean_squared_error')\n",
    "#scoring : choix de metrique pour evaluer perf modele\n",
    "#r2 : evaluer exactitute du modele\n",
    "#mse : souvent utilisé : minimise impact des grandes erreurs\n",
    "#mae : evaluation simple et robuste sans penaliser outliers\n",
    "\n",
    "\n",
    "# Entraînement\n",
    "grid.fit(X_train, y_train)"
   ]
  },
  {
   "cell_type": "code",
   "execution_count": null,
   "metadata": {},
   "outputs": [],
   "source": [
    "# Faire des prédictions avec le modèle ayant le meilleur alpha\n",
    "y_pred = grid.predict(X_test)\n",
    "\n",
    "# métriques\n",
    "mae = mean_absolute_error(y_test, y_pred)\n",
    "mse = mean_squared_error(y_test, y_pred)\n",
    "r2 = r2_score(y_test, y_pred)\n",
    "\n",
    "print(\"Meilleur alpha : \", grid.best_params_['alpha'])\n",
    "print(f\"MAE: {mae}\")\n",
    "print(f\"MSE: {mse}\")\n",
    "print(f\"R²: {r2}\")"
   ]
  },
  {
   "cell_type": "code",
   "execution_count": null,
   "metadata": {},
   "outputs": [],
   "source": [
    "plt.scatter(y_test, y_pred, c='blue', label='Prédictions')\n",
    "plt.plot([y_test.min(), y_test.max()], [y_test.min(), y_test.max()], color='red', linestyle='--', label='Ligne idéale')\n",
    "plt.xlabel('Valeurs réelles')\n",
    "plt.ylabel('Prédictions')\n",
    "plt.legend()\n",
    "plt.title('Ridge Regression : Prédictions vs Réel')\n",
    "plt.show()\n"
   ]
  },
  {
   "cell_type": "markdown",
   "metadata": {},
   "source": [
    "## Lasso"
   ]
  },
  {
   "cell_type": "code",
   "execution_count": 7,
   "metadata": {},
   "outputs": [
    {
     "name": "stderr",
     "output_type": "stream",
     "text": [
      "/home/sami/Documents/Dev_IA/Briefprimeassurance/.venv/lib/python3.12/site-packages/sklearn/linear_model/_coordinate_descent.py:695: ConvergenceWarning: Objective did not converge. You might want to increase the number of iterations, check the scale of the features or consider increasing regularisation. Duality gap: 1.347e+10, tolerance: 1.334e+10\n",
      "  model = cd_fast.enet_coordinate_descent(\n",
      "/home/sami/Documents/Dev_IA/Briefprimeassurance/.venv/lib/python3.12/site-packages/sklearn/linear_model/_coordinate_descent.py:695: ConvergenceWarning: Objective did not converge. You might want to increase the number of iterations, check the scale of the features or consider increasing regularisation. Duality gap: 1.348e+10, tolerance: 1.334e+10\n",
      "  model = cd_fast.enet_coordinate_descent(\n",
      "/home/sami/Documents/Dev_IA/Briefprimeassurance/.venv/lib/python3.12/site-packages/sklearn/linear_model/_coordinate_descent.py:695: ConvergenceWarning: Objective did not converge. You might want to increase the number of iterations, check the scale of the features or consider increasing regularisation. Duality gap: 1.348e+10, tolerance: 1.334e+10\n",
      "  model = cd_fast.enet_coordinate_descent(\n",
      "/home/sami/Documents/Dev_IA/Briefprimeassurance/.venv/lib/python3.12/site-packages/sklearn/linear_model/_coordinate_descent.py:695: ConvergenceWarning: Objective did not converge. You might want to increase the number of iterations, check the scale of the features or consider increasing regularisation. Duality gap: 1.348e+10, tolerance: 1.334e+10\n",
      "  model = cd_fast.enet_coordinate_descent(\n",
      "/home/sami/Documents/Dev_IA/Briefprimeassurance/.venv/lib/python3.12/site-packages/sklearn/linear_model/_coordinate_descent.py:695: ConvergenceWarning: Objective did not converge. You might want to increase the number of iterations, check the scale of the features or consider increasing regularisation. Duality gap: 1.348e+10, tolerance: 1.334e+10\n",
      "  model = cd_fast.enet_coordinate_descent(\n",
      "/home/sami/Documents/Dev_IA/Briefprimeassurance/.venv/lib/python3.12/site-packages/sklearn/linear_model/_coordinate_descent.py:695: ConvergenceWarning: Objective did not converge. You might want to increase the number of iterations, check the scale of the features or consider increasing regularisation. Duality gap: 1.348e+10, tolerance: 1.334e+10\n",
      "  model = cd_fast.enet_coordinate_descent(\n",
      "/home/sami/Documents/Dev_IA/Briefprimeassurance/.venv/lib/python3.12/site-packages/sklearn/linear_model/_coordinate_descent.py:695: ConvergenceWarning: Objective did not converge. You might want to increase the number of iterations, check the scale of the features or consider increasing regularisation. Duality gap: 1.348e+10, tolerance: 1.334e+10\n",
      "  model = cd_fast.enet_coordinate_descent(\n",
      "/home/sami/Documents/Dev_IA/Briefprimeassurance/.venv/lib/python3.12/site-packages/sklearn/linear_model/_coordinate_descent.py:695: ConvergenceWarning: Objective did not converge. You might want to increase the number of iterations, check the scale of the features or consider increasing regularisation. Duality gap: 1.348e+10, tolerance: 1.334e+10\n",
      "  model = cd_fast.enet_coordinate_descent(\n",
      "/home/sami/Documents/Dev_IA/Briefprimeassurance/.venv/lib/python3.12/site-packages/sklearn/linear_model/_coordinate_descent.py:695: ConvergenceWarning: Objective did not converge. You might want to increase the number of iterations, check the scale of the features or consider increasing regularisation. Duality gap: 1.348e+10, tolerance: 1.334e+10\n",
      "  model = cd_fast.enet_coordinate_descent(\n",
      "/home/sami/Documents/Dev_IA/Briefprimeassurance/.venv/lib/python3.12/site-packages/sklearn/linear_model/_coordinate_descent.py:695: ConvergenceWarning: Objective did not converge. You might want to increase the number of iterations, check the scale of the features or consider increasing regularisation. Duality gap: 1.348e+10, tolerance: 1.334e+10\n",
      "  model = cd_fast.enet_coordinate_descent(\n",
      "/home/sami/Documents/Dev_IA/Briefprimeassurance/.venv/lib/python3.12/site-packages/sklearn/linear_model/_coordinate_descent.py:695: ConvergenceWarning: Objective did not converge. You might want to increase the number of iterations, check the scale of the features or consider increasing regularisation. Duality gap: 1.348e+10, tolerance: 1.334e+10\n",
      "  model = cd_fast.enet_coordinate_descent(\n",
      "/home/sami/Documents/Dev_IA/Briefprimeassurance/.venv/lib/python3.12/site-packages/sklearn/linear_model/_coordinate_descent.py:695: ConvergenceWarning: Objective did not converge. You might want to increase the number of iterations, check the scale of the features or consider increasing regularisation. Duality gap: 1.348e+10, tolerance: 1.334e+10\n",
      "  model = cd_fast.enet_coordinate_descent(\n",
      "/home/sami/Documents/Dev_IA/Briefprimeassurance/.venv/lib/python3.12/site-packages/sklearn/linear_model/_coordinate_descent.py:695: ConvergenceWarning: Objective did not converge. You might want to increase the number of iterations, check the scale of the features or consider increasing regularisation. Duality gap: 1.348e+10, tolerance: 1.334e+10\n",
      "  model = cd_fast.enet_coordinate_descent(\n",
      "/home/sami/Documents/Dev_IA/Briefprimeassurance/.venv/lib/python3.12/site-packages/sklearn/linear_model/_coordinate_descent.py:695: ConvergenceWarning: Objective did not converge. You might want to increase the number of iterations, check the scale of the features or consider increasing regularisation. Duality gap: 1.348e+10, tolerance: 1.334e+10\n",
      "  model = cd_fast.enet_coordinate_descent(\n",
      "/home/sami/Documents/Dev_IA/Briefprimeassurance/.venv/lib/python3.12/site-packages/sklearn/linear_model/_coordinate_descent.py:695: ConvergenceWarning: Objective did not converge. You might want to increase the number of iterations, check the scale of the features or consider increasing regularisation. Duality gap: 1.355e+10, tolerance: 1.334e+10\n",
      "  model = cd_fast.enet_coordinate_descent(\n",
      "/home/sami/Documents/Dev_IA/Briefprimeassurance/.venv/lib/python3.12/site-packages/sklearn/linear_model/_coordinate_descent.py:695: ConvergenceWarning: Objective did not converge. You might want to increase the number of iterations, check the scale of the features or consider increasing regularisation. Duality gap: 1.340e+10, tolerance: 1.334e+10\n",
      "  model = cd_fast.enet_coordinate_descent(\n",
      "/home/sami/Documents/Dev_IA/Briefprimeassurance/.venv/lib/python3.12/site-packages/sklearn/linear_model/_coordinate_descent.py:695: ConvergenceWarning: Objective did not converge. You might want to increase the number of iterations, check the scale of the features or consider increasing regularisation. Duality gap: 1.340e+10, tolerance: 1.334e+10\n",
      "  model = cd_fast.enet_coordinate_descent(\n",
      "/home/sami/Documents/Dev_IA/Briefprimeassurance/.venv/lib/python3.12/site-packages/sklearn/linear_model/_coordinate_descent.py:695: ConvergenceWarning: Objective did not converge. You might want to increase the number of iterations, check the scale of the features or consider increasing regularisation. Duality gap: 1.340e+10, tolerance: 1.334e+10\n",
      "  model = cd_fast.enet_coordinate_descent(\n",
      "/home/sami/Documents/Dev_IA/Briefprimeassurance/.venv/lib/python3.12/site-packages/sklearn/linear_model/_coordinate_descent.py:695: ConvergenceWarning: Objective did not converge. You might want to increase the number of iterations, check the scale of the features or consider increasing regularisation. Duality gap: 1.340e+10, tolerance: 1.334e+10\n",
      "  model = cd_fast.enet_coordinate_descent(\n",
      "/home/sami/Documents/Dev_IA/Briefprimeassurance/.venv/lib/python3.12/site-packages/sklearn/linear_model/_coordinate_descent.py:695: ConvergenceWarning: Objective did not converge. You might want to increase the number of iterations, check the scale of the features or consider increasing regularisation. Duality gap: 1.340e+10, tolerance: 1.334e+10\n",
      "  model = cd_fast.enet_coordinate_descent(\n",
      "/home/sami/Documents/Dev_IA/Briefprimeassurance/.venv/lib/python3.12/site-packages/sklearn/linear_model/_coordinate_descent.py:695: ConvergenceWarning: Objective did not converge. You might want to increase the number of iterations, check the scale of the features or consider increasing regularisation. Duality gap: 1.340e+10, tolerance: 1.334e+10\n",
      "  model = cd_fast.enet_coordinate_descent(\n",
      "/home/sami/Documents/Dev_IA/Briefprimeassurance/.venv/lib/python3.12/site-packages/sklearn/linear_model/_coordinate_descent.py:695: ConvergenceWarning: Objective did not converge. You might want to increase the number of iterations, check the scale of the features or consider increasing regularisation. Duality gap: 1.341e+10, tolerance: 1.334e+10\n",
      "  model = cd_fast.enet_coordinate_descent(\n",
      "/home/sami/Documents/Dev_IA/Briefprimeassurance/.venv/lib/python3.12/site-packages/sklearn/linear_model/_coordinate_descent.py:695: ConvergenceWarning: Objective did not converge. You might want to increase the number of iterations, check the scale of the features or consider increasing regularisation. Duality gap: 1.341e+10, tolerance: 1.334e+10\n",
      "  model = cd_fast.enet_coordinate_descent(\n",
      "/home/sami/Documents/Dev_IA/Briefprimeassurance/.venv/lib/python3.12/site-packages/sklearn/linear_model/_coordinate_descent.py:695: ConvergenceWarning: Objective did not converge. You might want to increase the number of iterations, check the scale of the features or consider increasing regularisation. Duality gap: 1.341e+10, tolerance: 1.334e+10\n",
      "  model = cd_fast.enet_coordinate_descent(\n",
      "/home/sami/Documents/Dev_IA/Briefprimeassurance/.venv/lib/python3.12/site-packages/sklearn/linear_model/_coordinate_descent.py:695: ConvergenceWarning: Objective did not converge. You might want to increase the number of iterations, check the scale of the features or consider increasing regularisation. Duality gap: 1.341e+10, tolerance: 1.334e+10\n",
      "  model = cd_fast.enet_coordinate_descent(\n",
      "/home/sami/Documents/Dev_IA/Briefprimeassurance/.venv/lib/python3.12/site-packages/sklearn/linear_model/_coordinate_descent.py:695: ConvergenceWarning: Objective did not converge. You might want to increase the number of iterations, check the scale of the features or consider increasing regularisation. Duality gap: 1.341e+10, tolerance: 1.334e+10\n",
      "  model = cd_fast.enet_coordinate_descent(\n",
      "/home/sami/Documents/Dev_IA/Briefprimeassurance/.venv/lib/python3.12/site-packages/sklearn/linear_model/_coordinate_descent.py:695: ConvergenceWarning: Objective did not converge. You might want to increase the number of iterations, check the scale of the features or consider increasing regularisation. Duality gap: 1.341e+10, tolerance: 1.334e+10\n",
      "  model = cd_fast.enet_coordinate_descent(\n",
      "/home/sami/Documents/Dev_IA/Briefprimeassurance/.venv/lib/python3.12/site-packages/sklearn/linear_model/_coordinate_descent.py:695: ConvergenceWarning: Objective did not converge. You might want to increase the number of iterations, check the scale of the features or consider increasing regularisation. Duality gap: 1.341e+10, tolerance: 1.334e+10\n",
      "  model = cd_fast.enet_coordinate_descent(\n",
      "/home/sami/Documents/Dev_IA/Briefprimeassurance/.venv/lib/python3.12/site-packages/sklearn/linear_model/_coordinate_descent.py:695: ConvergenceWarning: Objective did not converge. You might want to increase the number of iterations, check the scale of the features or consider increasing regularisation. Duality gap: 1.342e+10, tolerance: 1.334e+10\n",
      "  model = cd_fast.enet_coordinate_descent(\n",
      "/home/sami/Documents/Dev_IA/Briefprimeassurance/.venv/lib/python3.12/site-packages/sklearn/linear_model/_coordinate_descent.py:695: ConvergenceWarning: Objective did not converge. You might want to increase the number of iterations, check the scale of the features or consider increasing regularisation. Duality gap: 1.342e+10, tolerance: 1.334e+10\n",
      "  model = cd_fast.enet_coordinate_descent(\n",
      "/home/sami/Documents/Dev_IA/Briefprimeassurance/.venv/lib/python3.12/site-packages/sklearn/linear_model/_coordinate_descent.py:695: ConvergenceWarning: Objective did not converge. You might want to increase the number of iterations, check the scale of the features or consider increasing regularisation. Duality gap: 1.342e+10, tolerance: 1.334e+10\n",
      "  model = cd_fast.enet_coordinate_descent(\n",
      "/home/sami/Documents/Dev_IA/Briefprimeassurance/.venv/lib/python3.12/site-packages/sklearn/linear_model/_coordinate_descent.py:695: ConvergenceWarning: Objective did not converge. You might want to increase the number of iterations, check the scale of the features or consider increasing regularisation. Duality gap: 1.342e+10, tolerance: 1.334e+10\n",
      "  model = cd_fast.enet_coordinate_descent(\n",
      "/home/sami/Documents/Dev_IA/Briefprimeassurance/.venv/lib/python3.12/site-packages/sklearn/linear_model/_coordinate_descent.py:695: ConvergenceWarning: Objective did not converge. You might want to increase the number of iterations, check the scale of the features or consider increasing regularisation. Duality gap: 1.342e+10, tolerance: 1.334e+10\n",
      "  model = cd_fast.enet_coordinate_descent(\n",
      "/home/sami/Documents/Dev_IA/Briefprimeassurance/.venv/lib/python3.12/site-packages/sklearn/linear_model/_coordinate_descent.py:695: ConvergenceWarning: Objective did not converge. You might want to increase the number of iterations, check the scale of the features or consider increasing regularisation. Duality gap: 1.342e+10, tolerance: 1.334e+10\n",
      "  model = cd_fast.enet_coordinate_descent(\n",
      "/home/sami/Documents/Dev_IA/Briefprimeassurance/.venv/lib/python3.12/site-packages/sklearn/linear_model/_coordinate_descent.py:695: ConvergenceWarning: Objective did not converge. You might want to increase the number of iterations, check the scale of the features or consider increasing regularisation. Duality gap: 1.342e+10, tolerance: 1.334e+10\n",
      "  model = cd_fast.enet_coordinate_descent(\n",
      "/home/sami/Documents/Dev_IA/Briefprimeassurance/.venv/lib/python3.12/site-packages/sklearn/linear_model/_coordinate_descent.py:695: ConvergenceWarning: Objective did not converge. You might want to increase the number of iterations, check the scale of the features or consider increasing regularisation. Duality gap: 1.343e+10, tolerance: 1.334e+10\n",
      "  model = cd_fast.enet_coordinate_descent(\n",
      "/home/sami/Documents/Dev_IA/Briefprimeassurance/.venv/lib/python3.12/site-packages/sklearn/linear_model/_coordinate_descent.py:695: ConvergenceWarning: Objective did not converge. You might want to increase the number of iterations, check the scale of the features or consider increasing regularisation. Duality gap: 1.343e+10, tolerance: 1.334e+10\n",
      "  model = cd_fast.enet_coordinate_descent(\n",
      "/home/sami/Documents/Dev_IA/Briefprimeassurance/.venv/lib/python3.12/site-packages/sklearn/linear_model/_coordinate_descent.py:695: ConvergenceWarning: Objective did not converge. You might want to increase the number of iterations, check the scale of the features or consider increasing regularisation. Duality gap: 1.343e+10, tolerance: 1.334e+10\n",
      "  model = cd_fast.enet_coordinate_descent(\n",
      "/home/sami/Documents/Dev_IA/Briefprimeassurance/.venv/lib/python3.12/site-packages/sklearn/linear_model/_coordinate_descent.py:695: ConvergenceWarning: Objective did not converge. You might want to increase the number of iterations, check the scale of the features or consider increasing regularisation. Duality gap: 1.343e+10, tolerance: 1.334e+10\n",
      "  model = cd_fast.enet_coordinate_descent(\n",
      "/home/sami/Documents/Dev_IA/Briefprimeassurance/.venv/lib/python3.12/site-packages/sklearn/linear_model/_coordinate_descent.py:695: ConvergenceWarning: Objective did not converge. You might want to increase the number of iterations, check the scale of the features or consider increasing regularisation. Duality gap: 1.343e+10, tolerance: 1.334e+10\n",
      "  model = cd_fast.enet_coordinate_descent(\n",
      "/home/sami/Documents/Dev_IA/Briefprimeassurance/.venv/lib/python3.12/site-packages/sklearn/linear_model/_coordinate_descent.py:695: ConvergenceWarning: Objective did not converge. You might want to increase the number of iterations, check the scale of the features or consider increasing regularisation. Duality gap: 1.343e+10, tolerance: 1.334e+10\n",
      "  model = cd_fast.enet_coordinate_descent(\n",
      "/home/sami/Documents/Dev_IA/Briefprimeassurance/.venv/lib/python3.12/site-packages/sklearn/linear_model/_coordinate_descent.py:695: ConvergenceWarning: Objective did not converge. You might want to increase the number of iterations, check the scale of the features or consider increasing regularisation. Duality gap: 1.343e+10, tolerance: 1.334e+10\n",
      "  model = cd_fast.enet_coordinate_descent(\n",
      "/home/sami/Documents/Dev_IA/Briefprimeassurance/.venv/lib/python3.12/site-packages/sklearn/linear_model/_coordinate_descent.py:695: ConvergenceWarning: Objective did not converge. You might want to increase the number of iterations, check the scale of the features or consider increasing regularisation. Duality gap: 1.344e+10, tolerance: 1.334e+10\n",
      "  model = cd_fast.enet_coordinate_descent(\n",
      "/home/sami/Documents/Dev_IA/Briefprimeassurance/.venv/lib/python3.12/site-packages/sklearn/linear_model/_coordinate_descent.py:695: ConvergenceWarning: Objective did not converge. You might want to increase the number of iterations, check the scale of the features or consider increasing regularisation. Duality gap: 1.344e+10, tolerance: 1.334e+10\n",
      "  model = cd_fast.enet_coordinate_descent(\n",
      "/home/sami/Documents/Dev_IA/Briefprimeassurance/.venv/lib/python3.12/site-packages/sklearn/linear_model/_coordinate_descent.py:695: ConvergenceWarning: Objective did not converge. You might want to increase the number of iterations, check the scale of the features or consider increasing regularisation. Duality gap: 1.344e+10, tolerance: 1.334e+10\n",
      "  model = cd_fast.enet_coordinate_descent(\n",
      "/home/sami/Documents/Dev_IA/Briefprimeassurance/.venv/lib/python3.12/site-packages/sklearn/linear_model/_coordinate_descent.py:695: ConvergenceWarning: Objective did not converge. You might want to increase the number of iterations, check the scale of the features or consider increasing regularisation. Duality gap: 1.344e+10, tolerance: 1.334e+10\n",
      "  model = cd_fast.enet_coordinate_descent(\n",
      "/home/sami/Documents/Dev_IA/Briefprimeassurance/.venv/lib/python3.12/site-packages/sklearn/linear_model/_coordinate_descent.py:695: ConvergenceWarning: Objective did not converge. You might want to increase the number of iterations, check the scale of the features or consider increasing regularisation. Duality gap: 1.344e+10, tolerance: 1.334e+10\n",
      "  model = cd_fast.enet_coordinate_descent(\n",
      "/home/sami/Documents/Dev_IA/Briefprimeassurance/.venv/lib/python3.12/site-packages/sklearn/linear_model/_coordinate_descent.py:695: ConvergenceWarning: Objective did not converge. You might want to increase the number of iterations, check the scale of the features or consider increasing regularisation. Duality gap: 1.344e+10, tolerance: 1.334e+10\n",
      "  model = cd_fast.enet_coordinate_descent(\n",
      "/home/sami/Documents/Dev_IA/Briefprimeassurance/.venv/lib/python3.12/site-packages/sklearn/linear_model/_coordinate_descent.py:695: ConvergenceWarning: Objective did not converge. You might want to increase the number of iterations, check the scale of the features or consider increasing regularisation. Duality gap: 1.344e+10, tolerance: 1.334e+10\n",
      "  model = cd_fast.enet_coordinate_descent(\n",
      "/home/sami/Documents/Dev_IA/Briefprimeassurance/.venv/lib/python3.12/site-packages/sklearn/linear_model/_coordinate_descent.py:695: ConvergenceWarning: Objective did not converge. You might want to increase the number of iterations, check the scale of the features or consider increasing regularisation. Duality gap: 1.345e+10, tolerance: 1.334e+10\n",
      "  model = cd_fast.enet_coordinate_descent(\n",
      "/home/sami/Documents/Dev_IA/Briefprimeassurance/.venv/lib/python3.12/site-packages/sklearn/linear_model/_coordinate_descent.py:695: ConvergenceWarning: Objective did not converge. You might want to increase the number of iterations, check the scale of the features or consider increasing regularisation. Duality gap: 1.345e+10, tolerance: 1.334e+10\n",
      "  model = cd_fast.enet_coordinate_descent(\n",
      "/home/sami/Documents/Dev_IA/Briefprimeassurance/.venv/lib/python3.12/site-packages/sklearn/linear_model/_coordinate_descent.py:695: ConvergenceWarning: Objective did not converge. You might want to increase the number of iterations, check the scale of the features or consider increasing regularisation. Duality gap: 1.345e+10, tolerance: 1.334e+10\n",
      "  model = cd_fast.enet_coordinate_descent(\n",
      "/home/sami/Documents/Dev_IA/Briefprimeassurance/.venv/lib/python3.12/site-packages/sklearn/linear_model/_coordinate_descent.py:695: ConvergenceWarning: Objective did not converge. You might want to increase the number of iterations, check the scale of the features or consider increasing regularisation. Duality gap: 1.345e+10, tolerance: 1.334e+10\n",
      "  model = cd_fast.enet_coordinate_descent(\n",
      "/home/sami/Documents/Dev_IA/Briefprimeassurance/.venv/lib/python3.12/site-packages/sklearn/linear_model/_coordinate_descent.py:695: ConvergenceWarning: Objective did not converge. You might want to increase the number of iterations, check the scale of the features or consider increasing regularisation. Duality gap: 1.345e+10, tolerance: 1.334e+10\n",
      "  model = cd_fast.enet_coordinate_descent(\n",
      "/home/sami/Documents/Dev_IA/Briefprimeassurance/.venv/lib/python3.12/site-packages/sklearn/linear_model/_coordinate_descent.py:695: ConvergenceWarning: Objective did not converge. You might want to increase the number of iterations, check the scale of the features or consider increasing regularisation. Duality gap: 1.345e+10, tolerance: 1.334e+10\n",
      "  model = cd_fast.enet_coordinate_descent(\n",
      "/home/sami/Documents/Dev_IA/Briefprimeassurance/.venv/lib/python3.12/site-packages/sklearn/linear_model/_coordinate_descent.py:695: ConvergenceWarning: Objective did not converge. You might want to increase the number of iterations, check the scale of the features or consider increasing regularisation. Duality gap: 1.345e+10, tolerance: 1.334e+10\n",
      "  model = cd_fast.enet_coordinate_descent(\n",
      "/home/sami/Documents/Dev_IA/Briefprimeassurance/.venv/lib/python3.12/site-packages/sklearn/linear_model/_coordinate_descent.py:695: ConvergenceWarning: Objective did not converge. You might want to increase the number of iterations, check the scale of the features or consider increasing regularisation. Duality gap: 1.346e+10, tolerance: 1.334e+10\n",
      "  model = cd_fast.enet_coordinate_descent(\n",
      "/home/sami/Documents/Dev_IA/Briefprimeassurance/.venv/lib/python3.12/site-packages/sklearn/linear_model/_coordinate_descent.py:695: ConvergenceWarning: Objective did not converge. You might want to increase the number of iterations, check the scale of the features or consider increasing regularisation. Duality gap: 1.346e+10, tolerance: 1.334e+10\n",
      "  model = cd_fast.enet_coordinate_descent(\n",
      "/home/sami/Documents/Dev_IA/Briefprimeassurance/.venv/lib/python3.12/site-packages/sklearn/linear_model/_coordinate_descent.py:695: ConvergenceWarning: Objective did not converge. You might want to increase the number of iterations, check the scale of the features or consider increasing regularisation. Duality gap: 1.346e+10, tolerance: 1.334e+10\n",
      "  model = cd_fast.enet_coordinate_descent(\n",
      "/home/sami/Documents/Dev_IA/Briefprimeassurance/.venv/lib/python3.12/site-packages/sklearn/linear_model/_coordinate_descent.py:695: ConvergenceWarning: Objective did not converge. You might want to increase the number of iterations, check the scale of the features or consider increasing regularisation. Duality gap: 1.346e+10, tolerance: 1.334e+10\n",
      "  model = cd_fast.enet_coordinate_descent(\n",
      "/home/sami/Documents/Dev_IA/Briefprimeassurance/.venv/lib/python3.12/site-packages/sklearn/linear_model/_coordinate_descent.py:695: ConvergenceWarning: Objective did not converge. You might want to increase the number of iterations, check the scale of the features or consider increasing regularisation. Duality gap: 1.346e+10, tolerance: 1.334e+10\n",
      "  model = cd_fast.enet_coordinate_descent(\n",
      "/home/sami/Documents/Dev_IA/Briefprimeassurance/.venv/lib/python3.12/site-packages/sklearn/linear_model/_coordinate_descent.py:695: ConvergenceWarning: Objective did not converge. You might want to increase the number of iterations, check the scale of the features or consider increasing regularisation. Duality gap: 1.346e+10, tolerance: 1.334e+10\n",
      "  model = cd_fast.enet_coordinate_descent(\n",
      "/home/sami/Documents/Dev_IA/Briefprimeassurance/.venv/lib/python3.12/site-packages/sklearn/linear_model/_coordinate_descent.py:695: ConvergenceWarning: Objective did not converge. You might want to increase the number of iterations, check the scale of the features or consider increasing regularisation. Duality gap: 1.346e+10, tolerance: 1.334e+10\n",
      "  model = cd_fast.enet_coordinate_descent(\n",
      "/home/sami/Documents/Dev_IA/Briefprimeassurance/.venv/lib/python3.12/site-packages/sklearn/linear_model/_coordinate_descent.py:695: ConvergenceWarning: Objective did not converge. You might want to increase the number of iterations, check the scale of the features or consider increasing regularisation. Duality gap: 1.347e+10, tolerance: 1.334e+10\n",
      "  model = cd_fast.enet_coordinate_descent(\n",
      "/home/sami/Documents/Dev_IA/Briefprimeassurance/.venv/lib/python3.12/site-packages/sklearn/linear_model/_coordinate_descent.py:695: ConvergenceWarning: Objective did not converge. You might want to increase the number of iterations, check the scale of the features or consider increasing regularisation. Duality gap: 1.347e+10, tolerance: 1.334e+10\n",
      "  model = cd_fast.enet_coordinate_descent(\n",
      "/home/sami/Documents/Dev_IA/Briefprimeassurance/.venv/lib/python3.12/site-packages/sklearn/linear_model/_coordinate_descent.py:695: ConvergenceWarning: Objective did not converge. You might want to increase the number of iterations, check the scale of the features or consider increasing regularisation. Duality gap: 1.347e+10, tolerance: 1.334e+10\n",
      "  model = cd_fast.enet_coordinate_descent(\n",
      "/home/sami/Documents/Dev_IA/Briefprimeassurance/.venv/lib/python3.12/site-packages/sklearn/linear_model/_coordinate_descent.py:695: ConvergenceWarning: Objective did not converge. You might want to increase the number of iterations, check the scale of the features or consider increasing regularisation. Duality gap: 1.347e+10, tolerance: 1.334e+10\n",
      "  model = cd_fast.enet_coordinate_descent(\n",
      "/home/sami/Documents/Dev_IA/Briefprimeassurance/.venv/lib/python3.12/site-packages/sklearn/linear_model/_coordinate_descent.py:695: ConvergenceWarning: Objective did not converge. You might want to increase the number of iterations, check the scale of the features or consider increasing regularisation. Duality gap: 1.347e+10, tolerance: 1.334e+10\n",
      "  model = cd_fast.enet_coordinate_descent(\n",
      "/home/sami/Documents/Dev_IA/Briefprimeassurance/.venv/lib/python3.12/site-packages/sklearn/linear_model/_coordinate_descent.py:695: ConvergenceWarning: Objective did not converge. You might want to increase the number of iterations, check the scale of the features or consider increasing regularisation. Duality gap: 1.347e+10, tolerance: 1.334e+10\n",
      "  model = cd_fast.enet_coordinate_descent(\n",
      "/home/sami/Documents/Dev_IA/Briefprimeassurance/.venv/lib/python3.12/site-packages/sklearn/linear_model/_coordinate_descent.py:695: ConvergenceWarning: Objective did not converge. You might want to increase the number of iterations, check the scale of the features or consider increasing regularisation. Duality gap: 1.347e+10, tolerance: 1.334e+10\n",
      "  model = cd_fast.enet_coordinate_descent(\n",
      "/home/sami/Documents/Dev_IA/Briefprimeassurance/.venv/lib/python3.12/site-packages/sklearn/linear_model/_coordinate_descent.py:695: ConvergenceWarning: Objective did not converge. You might want to increase the number of iterations, check the scale of the features or consider increasing regularisation. Duality gap: 1.348e+10, tolerance: 1.334e+10\n",
      "  model = cd_fast.enet_coordinate_descent(\n",
      "/home/sami/Documents/Dev_IA/Briefprimeassurance/.venv/lib/python3.12/site-packages/sklearn/linear_model/_coordinate_descent.py:695: ConvergenceWarning: Objective did not converge. You might want to increase the number of iterations, check the scale of the features or consider increasing regularisation. Duality gap: 1.348e+10, tolerance: 1.334e+10\n",
      "  model = cd_fast.enet_coordinate_descent(\n",
      "/home/sami/Documents/Dev_IA/Briefprimeassurance/.venv/lib/python3.12/site-packages/sklearn/linear_model/_coordinate_descent.py:695: ConvergenceWarning: Objective did not converge. You might want to increase the number of iterations, check the scale of the features or consider increasing regularisation. Duality gap: 1.348e+10, tolerance: 1.334e+10\n",
      "  model = cd_fast.enet_coordinate_descent(\n",
      "/home/sami/Documents/Dev_IA/Briefprimeassurance/.venv/lib/python3.12/site-packages/sklearn/linear_model/_coordinate_descent.py:695: ConvergenceWarning: Objective did not converge. You might want to increase the number of iterations, check the scale of the features or consider increasing regularisation. Duality gap: 1.348e+10, tolerance: 1.334e+10\n",
      "  model = cd_fast.enet_coordinate_descent(\n",
      "/home/sami/Documents/Dev_IA/Briefprimeassurance/.venv/lib/python3.12/site-packages/sklearn/linear_model/_coordinate_descent.py:695: ConvergenceWarning: Objective did not converge. You might want to increase the number of iterations, check the scale of the features or consider increasing regularisation. Duality gap: 1.348e+10, tolerance: 1.334e+10\n",
      "  model = cd_fast.enet_coordinate_descent(\n",
      "/home/sami/Documents/Dev_IA/Briefprimeassurance/.venv/lib/python3.12/site-packages/sklearn/linear_model/_coordinate_descent.py:695: ConvergenceWarning: Objective did not converge. You might want to increase the number of iterations, check the scale of the features or consider increasing regularisation. Duality gap: 1.348e+10, tolerance: 1.334e+10\n",
      "  model = cd_fast.enet_coordinate_descent(\n",
      "/home/sami/Documents/Dev_IA/Briefprimeassurance/.venv/lib/python3.12/site-packages/sklearn/linear_model/_coordinate_descent.py:695: ConvergenceWarning: Objective did not converge. You might want to increase the number of iterations, check the scale of the features or consider increasing regularisation. Duality gap: 1.348e+10, tolerance: 1.334e+10\n",
      "  model = cd_fast.enet_coordinate_descent(\n",
      "/home/sami/Documents/Dev_IA/Briefprimeassurance/.venv/lib/python3.12/site-packages/sklearn/linear_model/_coordinate_descent.py:695: ConvergenceWarning: Objective did not converge. You might want to increase the number of iterations, check the scale of the features or consider increasing regularisation. Duality gap: 1.349e+10, tolerance: 1.334e+10\n",
      "  model = cd_fast.enet_coordinate_descent(\n",
      "/home/sami/Documents/Dev_IA/Briefprimeassurance/.venv/lib/python3.12/site-packages/sklearn/linear_model/_coordinate_descent.py:695: ConvergenceWarning: Objective did not converge. You might want to increase the number of iterations, check the scale of the features or consider increasing regularisation. Duality gap: 1.349e+10, tolerance: 1.334e+10\n",
      "  model = cd_fast.enet_coordinate_descent(\n",
      "/home/sami/Documents/Dev_IA/Briefprimeassurance/.venv/lib/python3.12/site-packages/sklearn/linear_model/_coordinate_descent.py:695: ConvergenceWarning: Objective did not converge. You might want to increase the number of iterations, check the scale of the features or consider increasing regularisation. Duality gap: 1.349e+10, tolerance: 1.334e+10\n",
      "  model = cd_fast.enet_coordinate_descent(\n",
      "/home/sami/Documents/Dev_IA/Briefprimeassurance/.venv/lib/python3.12/site-packages/sklearn/linear_model/_coordinate_descent.py:695: ConvergenceWarning: Objective did not converge. You might want to increase the number of iterations, check the scale of the features or consider increasing regularisation. Duality gap: 1.349e+10, tolerance: 1.334e+10\n",
      "  model = cd_fast.enet_coordinate_descent(\n",
      "/home/sami/Documents/Dev_IA/Briefprimeassurance/.venv/lib/python3.12/site-packages/sklearn/linear_model/_coordinate_descent.py:695: ConvergenceWarning: Objective did not converge. You might want to increase the number of iterations, check the scale of the features or consider increasing regularisation. Duality gap: 1.349e+10, tolerance: 1.334e+10\n",
      "  model = cd_fast.enet_coordinate_descent(\n",
      "/home/sami/Documents/Dev_IA/Briefprimeassurance/.venv/lib/python3.12/site-packages/sklearn/linear_model/_coordinate_descent.py:695: ConvergenceWarning: Objective did not converge. You might want to increase the number of iterations, check the scale of the features or consider increasing regularisation. Duality gap: 1.349e+10, tolerance: 1.334e+10\n",
      "  model = cd_fast.enet_coordinate_descent(\n",
      "/home/sami/Documents/Dev_IA/Briefprimeassurance/.venv/lib/python3.12/site-packages/sklearn/linear_model/_coordinate_descent.py:695: ConvergenceWarning: Objective did not converge. You might want to increase the number of iterations, check the scale of the features or consider increasing regularisation. Duality gap: 1.349e+10, tolerance: 1.334e+10\n",
      "  model = cd_fast.enet_coordinate_descent(\n",
      "/home/sami/Documents/Dev_IA/Briefprimeassurance/.venv/lib/python3.12/site-packages/sklearn/linear_model/_coordinate_descent.py:695: ConvergenceWarning: Objective did not converge. You might want to increase the number of iterations, check the scale of the features or consider increasing regularisation. Duality gap: 1.350e+10, tolerance: 1.334e+10\n",
      "  model = cd_fast.enet_coordinate_descent(\n",
      "/home/sami/Documents/Dev_IA/Briefprimeassurance/.venv/lib/python3.12/site-packages/sklearn/linear_model/_coordinate_descent.py:695: ConvergenceWarning: Objective did not converge. You might want to increase the number of iterations, check the scale of the features or consider increasing regularisation. Duality gap: 1.350e+10, tolerance: 1.334e+10\n",
      "  model = cd_fast.enet_coordinate_descent(\n",
      "/home/sami/Documents/Dev_IA/Briefprimeassurance/.venv/lib/python3.12/site-packages/sklearn/linear_model/_coordinate_descent.py:695: ConvergenceWarning: Objective did not converge. You might want to increase the number of iterations, check the scale of the features or consider increasing regularisation. Duality gap: 1.350e+10, tolerance: 1.334e+10\n",
      "  model = cd_fast.enet_coordinate_descent(\n",
      "/home/sami/Documents/Dev_IA/Briefprimeassurance/.venv/lib/python3.12/site-packages/sklearn/linear_model/_coordinate_descent.py:695: ConvergenceWarning: Objective did not converge. You might want to increase the number of iterations, check the scale of the features or consider increasing regularisation. Duality gap: 1.350e+10, tolerance: 1.334e+10\n",
      "  model = cd_fast.enet_coordinate_descent(\n",
      "/home/sami/Documents/Dev_IA/Briefprimeassurance/.venv/lib/python3.12/site-packages/sklearn/linear_model/_coordinate_descent.py:695: ConvergenceWarning: Objective did not converge. You might want to increase the number of iterations, check the scale of the features or consider increasing regularisation. Duality gap: 1.350e+10, tolerance: 1.334e+10\n",
      "  model = cd_fast.enet_coordinate_descent(\n",
      "/home/sami/Documents/Dev_IA/Briefprimeassurance/.venv/lib/python3.12/site-packages/sklearn/linear_model/_coordinate_descent.py:695: ConvergenceWarning: Objective did not converge. You might want to increase the number of iterations, check the scale of the features or consider increasing regularisation. Duality gap: 1.350e+10, tolerance: 1.334e+10\n",
      "  model = cd_fast.enet_coordinate_descent(\n",
      "/home/sami/Documents/Dev_IA/Briefprimeassurance/.venv/lib/python3.12/site-packages/sklearn/linear_model/_coordinate_descent.py:695: ConvergenceWarning: Objective did not converge. You might want to increase the number of iterations, check the scale of the features or consider increasing regularisation. Duality gap: 1.350e+10, tolerance: 1.334e+10\n",
      "  model = cd_fast.enet_coordinate_descent(\n",
      "/home/sami/Documents/Dev_IA/Briefprimeassurance/.venv/lib/python3.12/site-packages/sklearn/linear_model/_coordinate_descent.py:695: ConvergenceWarning: Objective did not converge. You might want to increase the number of iterations, check the scale of the features or consider increasing regularisation. Duality gap: 1.350e+10, tolerance: 1.334e+10\n",
      "  model = cd_fast.enet_coordinate_descent(\n",
      "/home/sami/Documents/Dev_IA/Briefprimeassurance/.venv/lib/python3.12/site-packages/sklearn/linear_model/_coordinate_descent.py:695: ConvergenceWarning: Objective did not converge. You might want to increase the number of iterations, check the scale of the features or consider increasing regularisation. Duality gap: 1.351e+10, tolerance: 1.334e+10\n",
      "  model = cd_fast.enet_coordinate_descent(\n",
      "/home/sami/Documents/Dev_IA/Briefprimeassurance/.venv/lib/python3.12/site-packages/sklearn/linear_model/_coordinate_descent.py:695: ConvergenceWarning: Objective did not converge. You might want to increase the number of iterations, check the scale of the features or consider increasing regularisation. Duality gap: 1.351e+10, tolerance: 1.334e+10\n",
      "  model = cd_fast.enet_coordinate_descent(\n",
      "/home/sami/Documents/Dev_IA/Briefprimeassurance/.venv/lib/python3.12/site-packages/sklearn/linear_model/_coordinate_descent.py:695: ConvergenceWarning: Objective did not converge. You might want to increase the number of iterations, check the scale of the features or consider increasing regularisation. Duality gap: 1.351e+10, tolerance: 1.334e+10\n",
      "  model = cd_fast.enet_coordinate_descent(\n",
      "/home/sami/Documents/Dev_IA/Briefprimeassurance/.venv/lib/python3.12/site-packages/sklearn/linear_model/_coordinate_descent.py:695: ConvergenceWarning: Objective did not converge. You might want to increase the number of iterations, check the scale of the features or consider increasing regularisation. Duality gap: 1.351e+10, tolerance: 1.334e+10\n",
      "  model = cd_fast.enet_coordinate_descent(\n",
      "/home/sami/Documents/Dev_IA/Briefprimeassurance/.venv/lib/python3.12/site-packages/sklearn/linear_model/_coordinate_descent.py:695: ConvergenceWarning: Objective did not converge. You might want to increase the number of iterations, check the scale of the features or consider increasing regularisation. Duality gap: 1.351e+10, tolerance: 1.334e+10\n",
      "  model = cd_fast.enet_coordinate_descent(\n",
      "/home/sami/Documents/Dev_IA/Briefprimeassurance/.venv/lib/python3.12/site-packages/sklearn/linear_model/_coordinate_descent.py:695: ConvergenceWarning: Objective did not converge. You might want to increase the number of iterations, check the scale of the features or consider increasing regularisation. Duality gap: 1.351e+10, tolerance: 1.334e+10\n",
      "  model = cd_fast.enet_coordinate_descent(\n",
      "/home/sami/Documents/Dev_IA/Briefprimeassurance/.venv/lib/python3.12/site-packages/sklearn/linear_model/_coordinate_descent.py:695: ConvergenceWarning: Objective did not converge. You might want to increase the number of iterations, check the scale of the features or consider increasing regularisation. Duality gap: 1.351e+10, tolerance: 1.334e+10\n",
      "  model = cd_fast.enet_coordinate_descent(\n",
      "/home/sami/Documents/Dev_IA/Briefprimeassurance/.venv/lib/python3.12/site-packages/sklearn/linear_model/_coordinate_descent.py:695: ConvergenceWarning: Objective did not converge. You might want to increase the number of iterations, check the scale of the features or consider increasing regularisation. Duality gap: 1.352e+10, tolerance: 1.334e+10\n",
      "  model = cd_fast.enet_coordinate_descent(\n",
      "/home/sami/Documents/Dev_IA/Briefprimeassurance/.venv/lib/python3.12/site-packages/sklearn/linear_model/_coordinate_descent.py:695: ConvergenceWarning: Objective did not converge. You might want to increase the number of iterations, check the scale of the features or consider increasing regularisation. Duality gap: 1.352e+10, tolerance: 1.334e+10\n",
      "  model = cd_fast.enet_coordinate_descent(\n",
      "/home/sami/Documents/Dev_IA/Briefprimeassurance/.venv/lib/python3.12/site-packages/sklearn/linear_model/_coordinate_descent.py:695: ConvergenceWarning: Objective did not converge. You might want to increase the number of iterations, check the scale of the features or consider increasing regularisation. Duality gap: 1.352e+10, tolerance: 1.334e+10\n",
      "  model = cd_fast.enet_coordinate_descent(\n",
      "/home/sami/Documents/Dev_IA/Briefprimeassurance/.venv/lib/python3.12/site-packages/sklearn/linear_model/_coordinate_descent.py:695: ConvergenceWarning: Objective did not converge. You might want to increase the number of iterations, check the scale of the features or consider increasing regularisation. Duality gap: 1.352e+10, tolerance: 1.334e+10\n",
      "  model = cd_fast.enet_coordinate_descent(\n",
      "/home/sami/Documents/Dev_IA/Briefprimeassurance/.venv/lib/python3.12/site-packages/sklearn/linear_model/_coordinate_descent.py:695: ConvergenceWarning: Objective did not converge. You might want to increase the number of iterations, check the scale of the features or consider increasing regularisation. Duality gap: 1.352e+10, tolerance: 1.334e+10\n",
      "  model = cd_fast.enet_coordinate_descent(\n",
      "/home/sami/Documents/Dev_IA/Briefprimeassurance/.venv/lib/python3.12/site-packages/sklearn/linear_model/_coordinate_descent.py:695: ConvergenceWarning: Objective did not converge. You might want to increase the number of iterations, check the scale of the features or consider increasing regularisation. Duality gap: 1.352e+10, tolerance: 1.334e+10\n",
      "  model = cd_fast.enet_coordinate_descent(\n",
      "/home/sami/Documents/Dev_IA/Briefprimeassurance/.venv/lib/python3.12/site-packages/sklearn/linear_model/_coordinate_descent.py:695: ConvergenceWarning: Objective did not converge. You might want to increase the number of iterations, check the scale of the features or consider increasing regularisation. Duality gap: 1.352e+10, tolerance: 1.334e+10\n",
      "  model = cd_fast.enet_coordinate_descent(\n",
      "/home/sami/Documents/Dev_IA/Briefprimeassurance/.venv/lib/python3.12/site-packages/sklearn/linear_model/_coordinate_descent.py:695: ConvergenceWarning: Objective did not converge. You might want to increase the number of iterations, check the scale of the features or consider increasing regularisation. Duality gap: 1.352e+10, tolerance: 1.334e+10\n",
      "  model = cd_fast.enet_coordinate_descent(\n",
      "/home/sami/Documents/Dev_IA/Briefprimeassurance/.venv/lib/python3.12/site-packages/sklearn/linear_model/_coordinate_descent.py:695: ConvergenceWarning: Objective did not converge. You might want to increase the number of iterations, check the scale of the features or consider increasing regularisation. Duality gap: 1.353e+10, tolerance: 1.334e+10\n",
      "  model = cd_fast.enet_coordinate_descent(\n",
      "/home/sami/Documents/Dev_IA/Briefprimeassurance/.venv/lib/python3.12/site-packages/sklearn/linear_model/_coordinate_descent.py:695: ConvergenceWarning: Objective did not converge. You might want to increase the number of iterations, check the scale of the features or consider increasing regularisation. Duality gap: 1.353e+10, tolerance: 1.334e+10\n",
      "  model = cd_fast.enet_coordinate_descent(\n",
      "/home/sami/Documents/Dev_IA/Briefprimeassurance/.venv/lib/python3.12/site-packages/sklearn/linear_model/_coordinate_descent.py:695: ConvergenceWarning: Objective did not converge. You might want to increase the number of iterations, check the scale of the features or consider increasing regularisation. Duality gap: 1.353e+10, tolerance: 1.334e+10\n",
      "  model = cd_fast.enet_coordinate_descent(\n",
      "/home/sami/Documents/Dev_IA/Briefprimeassurance/.venv/lib/python3.12/site-packages/sklearn/linear_model/_coordinate_descent.py:695: ConvergenceWarning: Objective did not converge. You might want to increase the number of iterations, check the scale of the features or consider increasing regularisation. Duality gap: 1.353e+10, tolerance: 1.334e+10\n",
      "  model = cd_fast.enet_coordinate_descent(\n",
      "/home/sami/Documents/Dev_IA/Briefprimeassurance/.venv/lib/python3.12/site-packages/sklearn/linear_model/_coordinate_descent.py:695: ConvergenceWarning: Objective did not converge. You might want to increase the number of iterations, check the scale of the features or consider increasing regularisation. Duality gap: 1.353e+10, tolerance: 1.334e+10\n",
      "  model = cd_fast.enet_coordinate_descent(\n",
      "/home/sami/Documents/Dev_IA/Briefprimeassurance/.venv/lib/python3.12/site-packages/sklearn/linear_model/_coordinate_descent.py:695: ConvergenceWarning: Objective did not converge. You might want to increase the number of iterations, check the scale of the features or consider increasing regularisation. Duality gap: 1.353e+10, tolerance: 1.334e+10\n",
      "  model = cd_fast.enet_coordinate_descent(\n",
      "/home/sami/Documents/Dev_IA/Briefprimeassurance/.venv/lib/python3.12/site-packages/sklearn/linear_model/_coordinate_descent.py:695: ConvergenceWarning: Objective did not converge. You might want to increase the number of iterations, check the scale of the features or consider increasing regularisation. Duality gap: 1.353e+10, tolerance: 1.334e+10\n",
      "  model = cd_fast.enet_coordinate_descent(\n",
      "/home/sami/Documents/Dev_IA/Briefprimeassurance/.venv/lib/python3.12/site-packages/sklearn/linear_model/_coordinate_descent.py:695: ConvergenceWarning: Objective did not converge. You might want to increase the number of iterations, check the scale of the features or consider increasing regularisation. Duality gap: 1.354e+10, tolerance: 1.334e+10\n",
      "  model = cd_fast.enet_coordinate_descent(\n",
      "/home/sami/Documents/Dev_IA/Briefprimeassurance/.venv/lib/python3.12/site-packages/sklearn/linear_model/_coordinate_descent.py:695: ConvergenceWarning: Objective did not converge. You might want to increase the number of iterations, check the scale of the features or consider increasing regularisation. Duality gap: 1.354e+10, tolerance: 1.334e+10\n",
      "  model = cd_fast.enet_coordinate_descent(\n",
      "/home/sami/Documents/Dev_IA/Briefprimeassurance/.venv/lib/python3.12/site-packages/sklearn/linear_model/_coordinate_descent.py:695: ConvergenceWarning: Objective did not converge. You might want to increase the number of iterations, check the scale of the features or consider increasing regularisation. Duality gap: 1.354e+10, tolerance: 1.334e+10\n",
      "  model = cd_fast.enet_coordinate_descent(\n",
      "/home/sami/Documents/Dev_IA/Briefprimeassurance/.venv/lib/python3.12/site-packages/sklearn/linear_model/_coordinate_descent.py:695: ConvergenceWarning: Objective did not converge. You might want to increase the number of iterations, check the scale of the features or consider increasing regularisation. Duality gap: 1.354e+10, tolerance: 1.334e+10\n",
      "  model = cd_fast.enet_coordinate_descent(\n",
      "/home/sami/Documents/Dev_IA/Briefprimeassurance/.venv/lib/python3.12/site-packages/sklearn/linear_model/_coordinate_descent.py:695: ConvergenceWarning: Objective did not converge. You might want to increase the number of iterations, check the scale of the features or consider increasing regularisation. Duality gap: 1.354e+10, tolerance: 1.334e+10\n",
      "  model = cd_fast.enet_coordinate_descent(\n",
      "/home/sami/Documents/Dev_IA/Briefprimeassurance/.venv/lib/python3.12/site-packages/sklearn/linear_model/_coordinate_descent.py:695: ConvergenceWarning: Objective did not converge. You might want to increase the number of iterations, check the scale of the features or consider increasing regularisation. Duality gap: 1.354e+10, tolerance: 1.334e+10\n",
      "  model = cd_fast.enet_coordinate_descent(\n",
      "/home/sami/Documents/Dev_IA/Briefprimeassurance/.venv/lib/python3.12/site-packages/sklearn/linear_model/_coordinate_descent.py:695: ConvergenceWarning: Objective did not converge. You might want to increase the number of iterations, check the scale of the features or consider increasing regularisation. Duality gap: 1.354e+10, tolerance: 1.334e+10\n",
      "  model = cd_fast.enet_coordinate_descent(\n",
      "/home/sami/Documents/Dev_IA/Briefprimeassurance/.venv/lib/python3.12/site-packages/sklearn/linear_model/_coordinate_descent.py:695: ConvergenceWarning: Objective did not converge. You might want to increase the number of iterations, check the scale of the features or consider increasing regularisation. Duality gap: 1.354e+10, tolerance: 1.334e+10\n",
      "  model = cd_fast.enet_coordinate_descent(\n",
      "/home/sami/Documents/Dev_IA/Briefprimeassurance/.venv/lib/python3.12/site-packages/sklearn/linear_model/_coordinate_descent.py:695: ConvergenceWarning: Objective did not converge. You might want to increase the number of iterations, check the scale of the features or consider increasing regularisation. Duality gap: 1.355e+10, tolerance: 1.334e+10\n",
      "  model = cd_fast.enet_coordinate_descent(\n",
      "/home/sami/Documents/Dev_IA/Briefprimeassurance/.venv/lib/python3.12/site-packages/sklearn/linear_model/_coordinate_descent.py:695: ConvergenceWarning: Objective did not converge. You might want to increase the number of iterations, check the scale of the features or consider increasing regularisation. Duality gap: 1.355e+10, tolerance: 1.334e+10\n",
      "  model = cd_fast.enet_coordinate_descent(\n",
      "/home/sami/Documents/Dev_IA/Briefprimeassurance/.venv/lib/python3.12/site-packages/sklearn/linear_model/_coordinate_descent.py:695: ConvergenceWarning: Objective did not converge. You might want to increase the number of iterations, check the scale of the features or consider increasing regularisation. Duality gap: 1.355e+10, tolerance: 1.334e+10\n",
      "  model = cd_fast.enet_coordinate_descent(\n",
      "/home/sami/Documents/Dev_IA/Briefprimeassurance/.venv/lib/python3.12/site-packages/sklearn/linear_model/_coordinate_descent.py:695: ConvergenceWarning: Objective did not converge. You might want to increase the number of iterations, check the scale of the features or consider increasing regularisation. Duality gap: 1.355e+10, tolerance: 1.334e+10\n",
      "  model = cd_fast.enet_coordinate_descent(\n"
     ]
    },
    {
     "name": "stdout",
     "output_type": "stream",
     "text": [
      "19.950000000000017 0.902419432133585\n"
     ]
    }
   ],
   "source": [
    "poly = PolynomialFeatures(degree=2)\n",
    "poly_variables = poly.fit_transform(X)\n",
    "\n",
    "X_train, X_test, y_train, y_test = train_test_split(poly_variables, y, shuffle=True, train_size=0.85, random_state=42, stratify=X['fumeur'])\n",
    "\n",
    "alpha_ranges = np.arange(1,20,.05)\n",
    "maxscore = 0\n",
    "maxalp = 0\n",
    "for alp in alpha_ranges:\n",
    "    regression = linear_model.Lasso(alpha=alp, tol=0.08)\n",
    "    model = regression.fit(X_train, y_train)\n",
    "    if model.score(X_test,y_test) > maxscore:\n",
    "        maxscore = model.score(X_test,y_test)\n",
    "        maxalp = alp\n",
    "print(maxalp, maxscore)"
   ]
  },
  {
   "cell_type": "code",
   "execution_count": 8,
   "metadata": {},
   "outputs": [
    {
     "name": "stderr",
     "output_type": "stream",
     "text": [
      "/home/sami/Documents/Dev_IA/Briefprimeassurance/.venv/lib/python3.12/site-packages/sklearn/linear_model/_coordinate_descent.py:695: ConvergenceWarning: Objective did not converge. You might want to increase the number of iterations, check the scale of the features or consider increasing regularisation. Duality gap: 1.013e+10, tolerance: 1.315e+07\n",
      "  model = cd_fast.enet_coordinate_descent(\n",
      "/home/sami/Documents/Dev_IA/Briefprimeassurance/.venv/lib/python3.12/site-packages/sklearn/linear_model/_coordinate_descent.py:695: ConvergenceWarning: Objective did not converge. You might want to increase the number of iterations, check the scale of the features or consider increasing regularisation. Duality gap: 1.118e+10, tolerance: 1.298e+07\n",
      "  model = cd_fast.enet_coordinate_descent(\n",
      "/home/sami/Documents/Dev_IA/Briefprimeassurance/.venv/lib/python3.12/site-packages/sklearn/linear_model/_coordinate_descent.py:695: ConvergenceWarning: Objective did not converge. You might want to increase the number of iterations, check the scale of the features or consider increasing regularisation. Duality gap: 1.145e+10, tolerance: 1.397e+07\n",
      "  model = cd_fast.enet_coordinate_descent(\n",
      "/home/sami/Documents/Dev_IA/Briefprimeassurance/.venv/lib/python3.12/site-packages/sklearn/linear_model/_coordinate_descent.py:695: ConvergenceWarning: Objective did not converge. You might want to increase the number of iterations, check the scale of the features or consider increasing regularisation. Duality gap: 1.114e+10, tolerance: 1.381e+07\n",
      "  model = cd_fast.enet_coordinate_descent(\n",
      "/home/sami/Documents/Dev_IA/Briefprimeassurance/.venv/lib/python3.12/site-packages/sklearn/linear_model/_coordinate_descent.py:695: ConvergenceWarning: Objective did not converge. You might want to increase the number of iterations, check the scale of the features or consider increasing regularisation. Duality gap: 9.369e+09, tolerance: 1.271e+07\n",
      "  model = cd_fast.enet_coordinate_descent(\n",
      "/home/sami/Documents/Dev_IA/Briefprimeassurance/.venv/lib/python3.12/site-packages/sklearn/linear_model/_coordinate_descent.py:695: ConvergenceWarning: Objective did not converge. You might want to increase the number of iterations, check the scale of the features or consider increasing regularisation. Duality gap: 1.015e+10, tolerance: 1.315e+07\n",
      "  model = cd_fast.enet_coordinate_descent(\n",
      "/home/sami/Documents/Dev_IA/Briefprimeassurance/.venv/lib/python3.12/site-packages/sklearn/linear_model/_coordinate_descent.py:695: ConvergenceWarning: Objective did not converge. You might want to increase the number of iterations, check the scale of the features or consider increasing regularisation. Duality gap: 1.120e+10, tolerance: 1.298e+07\n",
      "  model = cd_fast.enet_coordinate_descent(\n",
      "/home/sami/Documents/Dev_IA/Briefprimeassurance/.venv/lib/python3.12/site-packages/sklearn/linear_model/_coordinate_descent.py:695: ConvergenceWarning: Objective did not converge. You might want to increase the number of iterations, check the scale of the features or consider increasing regularisation. Duality gap: 1.137e+10, tolerance: 1.397e+07\n",
      "  model = cd_fast.enet_coordinate_descent(\n",
      "/home/sami/Documents/Dev_IA/Briefprimeassurance/.venv/lib/python3.12/site-packages/sklearn/linear_model/_coordinate_descent.py:695: ConvergenceWarning: Objective did not converge. You might want to increase the number of iterations, check the scale of the features or consider increasing regularisation. Duality gap: 1.114e+10, tolerance: 1.381e+07\n",
      "  model = cd_fast.enet_coordinate_descent(\n",
      "/home/sami/Documents/Dev_IA/Briefprimeassurance/.venv/lib/python3.12/site-packages/sklearn/linear_model/_coordinate_descent.py:695: ConvergenceWarning: Objective did not converge. You might want to increase the number of iterations, check the scale of the features or consider increasing regularisation. Duality gap: 9.465e+09, tolerance: 1.271e+07\n",
      "  model = cd_fast.enet_coordinate_descent(\n",
      "/home/sami/Documents/Dev_IA/Briefprimeassurance/.venv/lib/python3.12/site-packages/sklearn/linear_model/_coordinate_descent.py:695: ConvergenceWarning: Objective did not converge. You might want to increase the number of iterations, check the scale of the features or consider increasing regularisation. Duality gap: 1.016e+10, tolerance: 1.315e+07\n",
      "  model = cd_fast.enet_coordinate_descent(\n",
      "/home/sami/Documents/Dev_IA/Briefprimeassurance/.venv/lib/python3.12/site-packages/sklearn/linear_model/_coordinate_descent.py:695: ConvergenceWarning: Objective did not converge. You might want to increase the number of iterations, check the scale of the features or consider increasing regularisation. Duality gap: 1.112e+10, tolerance: 1.298e+07\n",
      "  model = cd_fast.enet_coordinate_descent(\n",
      "/home/sami/Documents/Dev_IA/Briefprimeassurance/.venv/lib/python3.12/site-packages/sklearn/linear_model/_coordinate_descent.py:695: ConvergenceWarning: Objective did not converge. You might want to increase the number of iterations, check the scale of the features or consider increasing regularisation. Duality gap: 1.135e+10, tolerance: 1.397e+07\n",
      "  model = cd_fast.enet_coordinate_descent(\n",
      "/home/sami/Documents/Dev_IA/Briefprimeassurance/.venv/lib/python3.12/site-packages/sklearn/linear_model/_coordinate_descent.py:695: ConvergenceWarning: Objective did not converge. You might want to increase the number of iterations, check the scale of the features or consider increasing regularisation. Duality gap: 1.102e+10, tolerance: 1.381e+07\n",
      "  model = cd_fast.enet_coordinate_descent(\n",
      "/home/sami/Documents/Dev_IA/Briefprimeassurance/.venv/lib/python3.12/site-packages/sklearn/linear_model/_coordinate_descent.py:695: ConvergenceWarning: Objective did not converge. You might want to increase the number of iterations, check the scale of the features or consider increasing regularisation. Duality gap: 9.522e+09, tolerance: 1.271e+07\n",
      "  model = cd_fast.enet_coordinate_descent(\n",
      "/home/sami/Documents/Dev_IA/Briefprimeassurance/.venv/lib/python3.12/site-packages/sklearn/linear_model/_coordinate_descent.py:695: ConvergenceWarning: Objective did not converge. You might want to increase the number of iterations, check the scale of the features or consider increasing regularisation. Duality gap: 1.089e+10, tolerance: 1.381e+07\n",
      "  model = cd_fast.enet_coordinate_descent(\n"
     ]
    },
    {
     "name": "stdout",
     "output_type": "stream",
     "text": [
      "meilleur alpha: {'alpha': 10}\n"
     ]
    },
    {
     "name": "stderr",
     "output_type": "stream",
     "text": [
      "/home/sami/Documents/Dev_IA/Briefprimeassurance/.venv/lib/python3.12/site-packages/sklearn/linear_model/_coordinate_descent.py:695: ConvergenceWarning: Objective did not converge. You might want to increase the number of iterations, check the scale of the features or consider increasing regularisation. Duality gap: 1.340e+10, tolerance: 1.667e+07\n",
      "  model = cd_fast.enet_coordinate_descent(\n"
     ]
    }
   ],
   "source": [
    "from sklearn.model_selection import GridSearchCV\n",
    "\n",
    "param_grid = {'alpha': [0.1, 1, 10, 50, 100]}\n",
    "lasso_cv = GridSearchCV(Lasso(), param_grid, cv=5)\n",
    "lasso_cv.fit(X_train, y_train)\n",
    "\n",
    "\n",
    "print(\"meilleur alpha:\", lasso_cv.best_params_)\n"
   ]
  },
  {
   "cell_type": "code",
   "execution_count": 9,
   "metadata": {},
   "outputs": [
    {
     "name": "stdout",
     "output_type": "stream",
     "text": [
      "MSE: 14137693.567650491\n",
      "MAE: 2441.4531314083833\n",
      "R²: 0.9024420064977742\n"
     ]
    },
    {
     "name": "stderr",
     "output_type": "stream",
     "text": [
      "/home/sami/Documents/Dev_IA/Briefprimeassurance/.venv/lib/python3.12/site-packages/sklearn/linear_model/_coordinate_descent.py:695: ConvergenceWarning: Objective did not converge. You might want to increase the number of iterations, check the scale of the features or consider increasing regularisation. Duality gap: 1.272e+10, tolerance: 1.667e+07\n",
      "  model = cd_fast.enet_coordinate_descent(\n"
     ]
    }
   ],
   "source": [
    "X = PolynomialFeatures(degree = 1, include_bias=False).fit_transform(X)\n",
    "\n",
    "lasso = Lasso(alpha = 19.95)\n",
    "lasso.fit(X_train,y_train)\n",
    "y_pred_lasso = lasso.predict(X_test)\n",
    "\n",
    "mse_lasso = mean_squared_error(y_test, y_pred_lasso)\n",
    "mae_lasso = mean_absolute_error(y_test, y_pred_lasso)\n",
    "r2_lasso = r2_score(y_test, y_pred_lasso)\n",
    "\n",
    "print(f\"MSE: {mse_lasso}\")\n",
    "print(f\"MAE: {mae_lasso}\")\n",
    "print(f\"R²: {r2_lasso}\")\n"
   ]
  },
  {
   "cell_type": "code",
   "execution_count": null,
   "metadata": {},
   "outputs": [],
   "source": [
    "import seaborn as sns\n",
    "\n",
    "residuals = y_test - lasso.predict(X_test)\n",
    "sns.histplot(residuals, kde=True)\n",
    "\n",
    "#si residu suivent loi normale : erreur sont distribuées aléatoirement autour de 0\n",
    "#donc prediction fiables et non biaisées"
   ]
  },
  {
   "cell_type": "code",
   "execution_count": null,
   "metadata": {},
   "outputs": [],
   "source": [
    "plt.figure(figsize=(8,6))\n",
    "plt.scatter(y_test, lasso.predict(X_test), alpha=0.7)\n",
    "plt.plot([y_test.min(), y_test.max()], [y_test.min(), y_test.max()], color=\"red\", linestyle=\"--\")\n",
    "plt.xlabel(\"Valeurs réelles\")\n",
    "plt.ylabel(\"Valeurs prédites\")\n",
    "plt.title(\"Prédictions Lasso vs Réelles\")\n",
    "plt.show()\n"
   ]
  },
  {
   "cell_type": "markdown",
   "metadata": {},
   "source": [
    "## ElasticNet"
   ]
  },
  {
   "cell_type": "code",
   "execution_count": null,
   "metadata": {},
   "outputs": [],
   "source": []
  },
  {
   "cell_type": "code",
   "execution_count": 10,
   "metadata": {},
   "outputs": [
    {
     "name": "stdout",
     "output_type": "stream",
     "text": [
      "Elastic Net coefficients:\n",
      "[ 0.00000000e+00  3.03663669e-01 -2.90608486e+02  4.13770239e+02\n",
      "  1.09652249e+03  1.76100386e+04  3.61378908e+02 -8.62776742e+01\n",
      "  2.47218895e+02 -5.02343385e+02  4.37247629e+00  1.63179170e+01\n",
      "  2.40776948e-01 -2.26807325e+00 -1.04434388e+01 -1.35775194e+02\n",
      " -1.15325877e+02 -6.60417611e+01 -8.96522126e+01 -8.47165663e+02\n",
      "  1.18471670e+01 -1.76291606e+02 -5.66536671e+02 -5.30689241e+02\n",
      "  0.00000000e+00  2.74737891e+02 -4.72631791e+02 -7.13992327e+00\n",
      "  9.45831808e-01  1.52776606e+03  9.41391580e+01  4.01515559e+01\n",
      " -4.83809818e+01  4.23787388e+01 -1.00543724e+02 -2.40679846e+02\n",
      "  3.00711751e+02  5.02424380e+02  0.00000000e+00 -7.04396089e+01\n",
      " -3.93609432e+04 -3.19858579e+02  0.00000000e+00 -1.30809021e+03\n",
      "  6.20596556e+02  4.28074389e+01  0.00000000e+00  0.00000000e+00\n",
      "  0.00000000e+00 -0.00000000e+00  0.00000000e+00  0.00000000e+00\n",
      "  8.03016783e+02  0.00000000e+00 -6.27307859e+02]\n",
      "MSE: 14591331.04354126\n",
      "MAE:2500.6534466646854\n",
      "R2:0.8993116541730793\n"
     ]
    },
    {
     "name": "stderr",
     "output_type": "stream",
     "text": [
      "/home/sami/Documents/Dev_IA/Briefprimeassurance/.venv/lib/python3.12/site-packages/sklearn/linear_model/_coordinate_descent.py:695: ConvergenceWarning: Objective did not converge. You might want to increase the number of iterations, check the scale of the features or consider increasing regularisation. Duality gap: 1.342e+10, tolerance: 1.667e+07\n",
      "  model = cd_fast.enet_coordinate_descent(\n"
     ]
    }
   ],
   "source": [
    "# Create an instance of the ElasticNet model\n",
    "elastic_net = ElasticNet(alpha=0.5, l1_ratio=1)\n",
    "#li_ratio : melange entre lasso/ridge\n",
    "#=0 : ridge; =1 : lasso ; =0,5 : les 2\n",
    "\n",
    "# Fit the model to the training data\n",
    "elastic_net.fit(X_train, y_train)\n",
    "\n",
    "# Make predictions on the test data\n",
    "y_pred_elas = elastic_net.predict(X_test)\n",
    "\n",
    "\n",
    "# Print the coefficients of the trained model\n",
    "mse_elas = mean_squared_error(y_test, y_pred_elas)\n",
    "mae_elas = mean_absolute_error(y_test, y_pred_elas)\n",
    "r2_elas = r2_score(y_test, y_pred_elas)\n",
    "\n",
    "print('Elastic Net coefficients:')\n",
    "print(elastic_net.coef_)\n",
    "#coef des var explicatives apres train, ils refletent relation entre var expl et var cible\n",
    "print(f\"MSE: {mse_elas}\")\n",
    "print(f\"MAE:{mae_elas}\")\n",
    "print(f\"R2:{r2_elas}\")"
   ]
  },
  {
   "cell_type": "code",
   "execution_count": null,
   "metadata": {},
   "outputs": [],
   "source": [
    "plt.scatter(y_test, y_pred_elas)\n",
    "plt.plot([y_test.min(), y_test.max()], [y_test.min(), y_test.max()], color='red', linestyle='--')  # Ligne idéale\n",
    "plt.show()\n"
   ]
  },
  {
   "cell_type": "markdown",
   "metadata": {},
   "source": [
    "## Prédiction"
   ]
  },
  {
   "cell_type": "code",
   "execution_count": null,
   "metadata": {},
   "outputs": [],
   "source": [
    "\n",
    "# Faire des prédictions sur les données de test\n",
    "y_pred = lm.predict(X_test)\n",
    "\n",
    "# Affichage des prédictions\n",
    "print(\"Les prédictions sont :\", y_pred)\n"
   ]
  },
  {
   "cell_type": "code",
   "execution_count": null,
   "metadata": {},
   "outputs": [],
   "source": [
    "from sklearn.metrics import mean_absolute_error, mean_squared_error, r2_score\n",
    "\n",
    "mae = mean_absolute_error(y_test, y_pred)\n",
    "mse = mean_squared_error(y_test, y_pred)\n",
    "r2 = r2_score(y_test, y_pred)\n",
    "\n",
    "print(\"MAE :\", mae)\n",
    "print(\"MSE :\", mse)\n",
    "print(\"R² :\", r2)\n"
   ]
  }
 ],
 "metadata": {
  "kernelspec": {
   "display_name": ".venv",
   "language": "python",
   "name": "python3"
  },
  "language_info": {
   "codemirror_mode": {
    "name": "ipython",
    "version": 3
   },
   "file_extension": ".py",
   "mimetype": "text/x-python",
   "name": "python",
   "nbconvert_exporter": "python",
   "pygments_lexer": "ipython3",
   "version": "3.12.3"
  }
 },
 "nbformat": 4,
 "nbformat_minor": 2
}
