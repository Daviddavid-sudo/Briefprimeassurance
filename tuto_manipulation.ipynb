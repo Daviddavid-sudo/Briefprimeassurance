{
 "cells": [
  {
   "cell_type": "code",
   "execution_count": null,
   "metadata": {},
   "outputs": [],
   "source": [
    "df = data"
   ]
  },
  {
   "cell_type": "code",
   "execution_count": null,
   "metadata": {},
   "outputs": [],
   "source": [
    "# Connaître ensemble des valeurs uniques\n",
    "\n",
    "df[\"age\"].unique()"
   ]
  },
  {
   "cell_type": "code",
   "execution_count": null,
   "metadata": {},
   "outputs": [],
   "source": [
    "# Connaître nb de lignes pour une condition\n",
    "\n",
    "df.query(\"age == 20\").shape[0]"
   ]
  },
  {
   "cell_type": "code",
   "execution_count": null,
   "metadata": {},
   "outputs": [],
   "source": [
    "# Connaître nb de lignes pour plusieurs conditions\n",
    "\n",
    "df.query(\"age == 20 and/or genre == 1\").shape[0]"
   ]
  },
  {
   "cell_type": "code",
   "execution_count": null,
   "metadata": {},
   "outputs": [],
   "source": [
    "# Affichage lignes avec une condition\n",
    "\n",
    "df[df['age'] == 20]"
   ]
  },
  {
   "cell_type": "code",
   "execution_count": null,
   "metadata": {},
   "outputs": [],
   "source": [
    "# Affichage lignes avec une condition mais une seule colonne\n",
    "\n",
    "df[df['age'] == 20][[\"charges\"]]"
   ]
  },
  {
   "cell_type": "code",
   "execution_count": null,
   "metadata": {},
   "outputs": [],
   "source": [
    "# Affichage lignes avec plusieurs conditions\n",
    "\n",
    "df[(df[\"age\"] > 20) & (df[\"genre\"] == 1)]\n",
    "\n",
    "df[(df[\"genre\"] == 0) | (df[\"genre\"] == 1)] \n",
    "\n",
    "df[df[\"age\"].between(18, 30)]\n"
   ]
  },
  {
   "cell_type": "code",
   "execution_count": null,
   "metadata": {},
   "outputs": [],
   "source": [
    "# Affichage plusieurs colonnes \n",
    "\n",
    "df[[\"charges\", \"IMC\"]]"
   ]
  },
  {
   "cell_type": "code",
   "execution_count": null,
   "metadata": {},
   "outputs": [],
   "source": [
    "# Calcul \n",
    "\n",
    "df.groupby('genre').agg({\"IMC\":'mean', \"fumeur\" : \"mean\"})\n",
    "df[(df[\"region_northeast\"] == 1.0) & (df[\"genre\"] == 0)][\"charges\"].mean()\n",
    "\n"
   ]
  }
 ],
 "metadata": {
  "kernelspec": {
   "display_name": ".venv",
   "language": "python",
   "name": "python3"
  },
  "language_info": {
   "codemirror_mode": {
    "name": "ipython",
    "version": 3
   },
   "file_extension": ".py",
   "mimetype": "text/x-python",
   "name": "python",
   "nbconvert_exporter": "python",
   "pygments_lexer": "ipython3",
   "version": "3.12.3"
  }
 },
 "nbformat": 4,
 "nbformat_minor": 2
}
