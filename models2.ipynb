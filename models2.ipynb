{
 "cells": [
  {
   "cell_type": "code",
   "execution_count": 1,
   "metadata": {},
   "outputs": [],
   "source": [
    "import pandas as pd\n",
    "import matplotlib as plt\n",
    "import seaborn as sns\n",
    "import numpy as np\n",
    "from sklearn.model_selection import train_test_split, RandomizedSearchCV, GridSearchCV\n",
    "from sklearn import linear_model\n",
    "from sklearn.linear_model import LinearRegression\n",
    "from sklearn.metrics import mean_squared_error, r2_score\n",
    "from sklearn.preprocessing import PolynomialFeatures"
   ]
  },
  {
   "cell_type": "code",
   "execution_count": 2,
   "metadata": {},
   "outputs": [],
   "source": [
    "data = pd.read_csv('cleaneddata.csv')\n",
    "X = data[['smoker','age', 'is_east', 'sex','bmi', 'is_north','children']]\n",
    "y = data['charges']"
   ]
  },
  {
   "cell_type": "code",
   "execution_count": 3,
   "metadata": {},
   "outputs": [
    {
     "name": "stderr",
     "output_type": "stream",
     "text": [
      "/tmp/ipykernel_5314/181865680.py:1: SettingWithCopyWarning: \n",
      "A value is trying to be set on a copy of a slice from a DataFrame.\n",
      "Try using .loc[row_indexer,col_indexer] = value instead\n",
      "\n",
      "See the caveats in the documentation: https://pandas.pydata.org/pandas-docs/stable/user_guide/indexing.html#returning-a-view-versus-a-copy\n",
      "  X['bmi'] = (X['bmi'] - X['bmi'].mean())/X['bmi'].std()\n",
      "/tmp/ipykernel_5314/181865680.py:2: SettingWithCopyWarning: \n",
      "A value is trying to be set on a copy of a slice from a DataFrame.\n",
      "Try using .loc[row_indexer,col_indexer] = value instead\n",
      "\n",
      "See the caveats in the documentation: https://pandas.pydata.org/pandas-docs/stable/user_guide/indexing.html#returning-a-view-versus-a-copy\n",
      "  X['age'] = (X['age'] - X['age'].mean())/X['age'].std()\n"
     ]
    }
   ],
   "source": [
    "X['bmi'] = (X['bmi'] - X['bmi'].mean())/X['bmi'].std()\n",
    "X['age'] = (X['age'] - X['age'].mean())/X['age'].std()"
   ]
  },
  {
   "cell_type": "code",
   "execution_count": 4,
   "metadata": {},
   "outputs": [
    {
     "name": "stdout",
     "output_type": "stream",
     "text": [
      "36\n",
      "Coefficients: \n",
      " [ 5.74564235e-13  1.22455462e+04  3.92271135e+03  2.75641378e+02\n",
      "  2.29066869e+01 -4.57571981e+01  1.35495964e+02  1.03786143e+03\n",
      "  1.22455462e+04 -2.15010003e+02 -3.76240416e+02 -1.97932075e+02\n",
      "  8.97552180e+03 -5.71591434e+02 -2.92935783e+02  8.91616403e+02\n",
      " -8.99337138e+01  1.00590067e+02  1.25124195e+02 -6.16968439e+02\n",
      " -8.23963022e+01  2.75641378e+02 -4.20026474e+02 -3.67166927e+02\n",
      "  2.49935338e+02 -1.26992342e+01  2.29066869e+01  5.79589389e+01\n",
      " -3.29648124e+02 -2.33851386e+02 -2.63855380e+02  5.52151163e+02\n",
      "  1.08880042e+02  1.35495964e+02  4.43734874e+02 -9.32130833e+01]\n",
      "6590.457751893835\n",
      "root mean squared error: 4577.96\n",
      "Coefficient of determination: 0.89\n"
     ]
    }
   ],
   "source": [
    "poly = PolynomialFeatures(degree=2)\n",
    "poly_variables = poly.fit_transform(X)\n",
    "\n",
    "X_train, X_test, y_train, y_test = train_test_split(poly_variables, y, test_size = 0.2, random_state = 42)\n",
    "\n",
    "regression = linear_model.LinearRegression()\n",
    "\n",
    "model = regression.fit(X_train, y_train)\n",
    "y_pred = model.predict(X_test)\n",
    "\n",
    "print(model.n_features_in_)\n",
    "print(\"Coefficients: \\n\", model.coef_)\n",
    "print(model.intercept_)\n",
    "print(\"root mean squared error: %.2f\" % np.sqrt(mean_squared_error(y_test, y_pred)))\n",
    "print(\"Coefficient of determination: %.2f\" % r2_score(y_test, y_pred))"
   ]
  },
  {
   "cell_type": "code",
   "execution_count": 5,
   "metadata": {},
   "outputs": [
    {
     "name": "stdout",
     "output_type": "stream",
     "text": [
      "36\n",
      "Coefficients: \n",
      " [    0.         12245.52407015  3922.7080789    275.63945844\n",
      "    22.90497322   -45.75625091   135.49463155  1037.85857262\n",
      " 12245.5240751   -215.01142017  -376.21903306  -197.91271314\n",
      "  8975.51499317  -571.57848561  -292.92949555   891.61665459\n",
      "   -89.93159156   100.59059552   125.12388716  -616.96687602\n",
      "   -82.39572123   275.639458    -420.02670049  -367.16631067\n",
      "   249.93506431   -12.69886131    22.90497292    57.95997065\n",
      "  -329.64819221  -233.85070386  -263.85590464   552.14963245\n",
      "   108.88012488   135.49463303   443.73509558   -93.21275033]\n",
      "6590.465860110088\n",
      "root mean squared error: 4577.96\n",
      "Coefficient of determination: 0.89\n"
     ]
    }
   ],
   "source": [
    "poly = PolynomialFeatures(degree=2)\n",
    "poly_variables = poly.fit_transform(X)\n",
    "\n",
    "X_train, X_test, y_train, y_test = train_test_split(poly_variables, y, test_size = 0.2, random_state = 42)\n",
    "\n",
    "regression = linear_model.Ridge(alpha=0.0001)\n",
    "\n",
    "model = regression.fit(X_train, y_train)\n",
    "y_pred = model.predict(X_test)\n",
    "\n",
    "print(model.n_features_in_)\n",
    "print(\"Coefficients: \\n\", model.coef_)\n",
    "print(model.intercept_)\n",
    "print(\"root mean squared error: %.2f\" % np.sqrt(mean_squared_error(y_test, y_pred)))\n",
    "print(\"Coefficient of determination: %.2f\" % r2_score(y_test, y_pred))"
   ]
  },
  {
   "cell_type": "code",
   "execution_count": 6,
   "metadata": {},
   "outputs": [
    {
     "name": "stdout",
     "output_type": "stream",
     "text": [
      "Scoring R2\n",
      "Best R2 score   :  0.82193889958598\n",
      "Best parameters :  {'alpha': np.float64(1.0309999999999997)}\n",
      "Scoring RMSE\n",
      "Best RMSE score  :  54.90542118665193\n",
      "Best parameters :  {'alpha': np.float64(0.001)}\n"
     ]
    }
   ],
   "source": [
    "poly = PolynomialFeatures(degree=2)\n",
    "poly_variables = poly.fit_transform(X)\n",
    "\n",
    "X_train, X_test, y_train, y_test = train_test_split(poly_variables, y, test_size = 0.2, random_state = 42)\n",
    "\n",
    "model = linear_model.Ridge()\n",
    "\n",
    "# test this range of alpha\n",
    "alpha_range = np.arange(0.001, 2, 0.01)\n",
    "\n",
    "param = {'alpha':alpha_range}\n",
    "\n",
    "# score base on r2\n",
    "grid_search_r2 = GridSearchCV(model,param_grid=param,cv=5)\n",
    "grid_search_r2.fit(X_train, y_train)\n",
    "\n",
    "# score base on MAE\n",
    "grid_search_MAE = GridSearchCV(model,param_grid=param,scoring ='neg_mean_absolute_error',cv=5)\n",
    "grid_search_MAE.fit(X_train, y_train)\n",
    "\n",
    "print('Scoring R2')\n",
    "print('Best R2 score   : ', grid_search_r2.best_score_)\n",
    "print('Best parameters : ', grid_search_r2.best_params_)\n",
    "\n",
    "\n",
    "print('Scoring RMSE')\n",
    "print('Best RMSE score  : ', np.sqrt(-grid_search_MAE.best_score_))\n",
    "print('Best parameters : ', grid_search_MAE.best_params_)"
   ]
  },
  {
   "cell_type": "code",
   "execution_count": 7,
   "metadata": {},
   "outputs": [
    {
     "name": "stdout",
     "output_type": "stream",
     "text": [
      "Scoring R2\n",
      "Best R2 score   :  0.82193889958598\n",
      "Best parameters :  {'alpha': np.float64(1.0309999999999997)}\n",
      "Scoring RMSE\n",
      "Best RMSE score  :  54.90542118665193\n",
      "Best parameters :  {'alpha': np.float64(0.001)}\n"
     ]
    }
   ],
   "source": [
    "poly = PolynomialFeatures(degree=2)\n",
    "poly_variables = poly.fit_transform(X)\n",
    "\n",
    "X_train, X_test, y_train, y_test = train_test_split(poly_variables, y, test_size = 0.2, random_state = 42)\n",
    "\n",
    "regression = linear_model.Lasso(alpha=0.01, tol=0.1)\n",
    "\n",
    "\n",
    "# test this range of alpha\n",
    "alpha_range = np.arange(0.001, 2, 0.01)\n",
    "\n",
    "param = {'alpha':alpha_range}\n",
    "\n",
    "# score base on r2\n",
    "grid_search_r2 = GridSearchCV(model,param_grid=param,cv=5)\n",
    "grid_search_r2.fit(X_train, y_train)\n",
    "\n",
    "# score base on MAE\n",
    "grid_search_MAE = GridSearchCV(model,param_grid=param,scoring ='neg_mean_absolute_error',cv=5)\n",
    "grid_search_MAE.fit(X_train, y_train)\n",
    "\n",
    "print('Scoring R2')\n",
    "print('Best R2 score   : ', grid_search_r2.best_score_)\n",
    "print('Best parameters : ', grid_search_r2.best_params_)\n",
    "\n",
    "\n",
    "print('Scoring RMSE')\n",
    "print('Best RMSE score  : ', np.sqrt(-grid_search_MAE.best_score_))\n",
    "print('Best parameters : ', grid_search_MAE.best_params_)"
   ]
  },
  {
   "cell_type": "code",
   "execution_count": 8,
   "metadata": {},
   "outputs": [
    {
     "name": "stdout",
     "output_type": "stream",
     "text": [
      "Coefficients: \n",
      " [ 0.00000000e+00  2.29013262e+04  3.85468421e+03  6.34468967e+02\n",
      "  1.97814211e+02  1.64855281e+03  2.37422943e+02  5.56914711e+02\n",
      "  3.54887210e+02  8.62757415e+00  2.49341890e+02  6.53466470e+02\n",
      "  8.66375447e+03 -2.29884426e+02 -1.69184423e+02  8.14710448e+02\n",
      " -1.30002858e+02 -1.66573790e+02  1.86762519e+02 -4.66762139e+02\n",
      " -5.02266389e+01 -6.64806101e+02 -6.85855847e+02 -1.41564860e+03\n",
      "  4.72505080e+02  1.99192259e+02 -5.38611932e+02 -5.06976791e+02\n",
      " -1.52360347e+02 -3.79241506e+01 -2.39085431e+02 -4.55367517e+01\n",
      " -9.26493664e+01 -0.00000000e+00  3.02312281e+02 -2.63737863e+01]\n",
      "7331.179361069648\n",
      "root mean squared error: 4706.97\n",
      "Coefficient of determination: 0.88\n"
     ]
    }
   ],
   "source": [
    "poly = PolynomialFeatures(degree=2)\n",
    "poly_variables = poly.fit_transform(X)\n",
    "\n",
    "X_train, X_test, y_train, y_test = train_test_split(poly_variables, y, test_size = 0.2, random_state = 42)\n",
    "\n",
    "regression = linear_model.Lasso(alpha=1.67, tol=0.1)\n",
    "\n",
    "model = regression.fit(X_train, y_train)\n",
    "y_pred = model.predict(X_test)\n",
    "\n",
    "print(\"Coefficients: \\n\", model.coef_)\n",
    "print(model.intercept_)\n",
    "print(\"root mean squared error: %.2f\" % np.sqrt(mean_squared_error(y_test, y_pred)))\n",
    "print(\"Coefficient of determination: %.2f\" % r2_score(y_test, y_pred))"
   ]
  },
  {
   "cell_type": "code",
   "execution_count": 9,
   "metadata": {},
   "outputs": [
    {
     "name": "stdout",
     "output_type": "stream",
     "text": [
      "Coefficients: \n",
      " [-2.61743119e-12  8.80129931e+03  4.45031646e+03  3.75946165e+02\n",
      "  6.13348855e+01 -1.82787341e+01 -2.62003323e+02  1.58313024e+02\n",
      "  8.80129931e+03 -5.14245311e+02 -1.13565508e+03 -5.19277887e+02\n",
      "  6.12906286e+03  1.52000738e+02 -3.19035457e+01  8.71849339e+02\n",
      "  3.84418314e+02 -4.54113842e+02 -1.88242364e+02 -1.26035918e+02\n",
      " -3.63317928e+02  3.75946165e+02 -3.51643406e+02 -2.62275115e+02\n",
      "  1.24461435e+02 -1.71096350e+02  6.13348855e+01  4.26278274e+02\n",
      "  2.51453606e+02 -3.79856602e+01  4.94718288e+01  3.99386371e+02\n",
      "  2.48399182e+02 -2.62003323e+02  9.41129900e+02 -3.16580567e+01\n",
      "  8.80129931e+03 -5.14245311e+02 -1.13565508e+03 -5.19277887e+02\n",
      "  6.12906286e+03  1.52000738e+02 -3.19035457e+01 -6.15471603e+02\n",
      " -8.61326866e+01  1.36530628e+03  4.29882993e+02  3.23780026e+02\n",
      " -1.41735746e+02 -1.13565508e+03  4.82768674e+03 -1.91788547e+03\n",
      "  2.70534659e+03 -1.02471924e+03 -5.19277887e+02 -1.56087846e+03\n",
      " -2.65291248e+03 -4.71943886e+02 -5.37784909e+02  1.65330835e+02\n",
      " -4.78245482e+02  1.52000738e+02 -5.53035831e+02  3.31606484e+02\n",
      " -3.00573569e+02 -1.14039820e+02 -3.66293290e+02 -1.40041127e+02\n",
      "  9.96308851e+01  4.98356041e+02  3.84418314e+02 -2.60020953e+02\n",
      "  2.56059231e+01 -1.04560665e+03 -3.12527740e+02 -4.54113842e+02\n",
      " -3.57054282e+02  1.32417646e+03  4.52686991e+02  9.02926996e+01\n",
      "  3.82282896e+02  5.65685860e+01 -1.26035918e+02 -8.19990127e+02\n",
      "  1.76785513e+02  3.75946165e+02 -3.51643406e+02 -2.62275115e+02\n",
      "  1.24461435e+02 -1.71096350e+02 -3.51643406e+02  2.24999158e+02\n",
      " -9.85025448e+02  2.99801698e+02  1.62120893e+01  4.57092892e+02\n",
      " -1.42854368e+01  1.24461435e+02 -2.55648343e+01  1.26666316e+02\n",
      "  6.13348855e+01  4.26278274e+02  2.51453606e+02 -3.79856602e+01\n",
      "  4.06770014e+01 -9.83700537e+02  6.94687416e+01  2.51453606e+02\n",
      " -2.27771156e+02 -4.60507820e+01 -1.50683298e+02  1.97509124e+02\n",
      " -1.64387432e+02  3.99386371e+02 -6.81944854e+01 -9.58002645e+00\n",
      " -2.62003323e+02  9.41129900e+02 -3.43383667e+02  1.41915123e+01]\n",
      "6736.457098376306\n",
      "root mean squared error: 4850.26\n",
      "Coefficient of determination: 0.87\n"
     ]
    }
   ],
   "source": [
    "poly = PolynomialFeatures(degree=3)\n",
    "poly_variables = poly.fit_transform(X)\n",
    "\n",
    "X_train, X_test, y_train, y_test = train_test_split(poly_variables, y, test_size = 0.2, random_state = 42)\n",
    "\n",
    "regression = linear_model.LinearRegression()\n",
    "\n",
    "model = regression.fit(X_train, y_train)\n",
    "y_pred = model.predict(X_test)\n",
    "\n",
    "print(\"Coefficients: \\n\", model.coef_)\n",
    "print(model.intercept_)\n",
    "print(\"root mean squared error: %.2f\" % np.sqrt(mean_squared_error(y_test, y_pred)))\n",
    "print(\"Coefficient of determination: %.2f\" % r2_score(y_test, y_pred))"
   ]
  },
  {
   "cell_type": "code",
   "execution_count": 10,
   "metadata": {},
   "outputs": [
    {
     "name": "stdout",
     "output_type": "stream",
     "text": [
      "Coefficients: \n",
      " [-3.16296378e-11  5.90593002e+03  1.97422965e+03  1.81249136e+02\n",
      "  5.37960284e+02 -6.72536421e+02 -3.05556518e+02 -8.76697411e+01\n",
      "  5.90593002e+03 -5.21933925e+02 -3.48932996e+02 -3.17609582e+02\n",
      "  5.82498331e+03  1.01531106e+03  1.49667728e+03  1.46705446e+03\n",
      "  8.12166419e+02  2.42949215e+02 -7.32036495e+02  7.13538732e+02\n",
      "  7.68730570e+02  1.81249136e+02 -5.68183709e+02 -2.22407889e+02\n",
      "  2.16442526e+02 -1.49759369e+02  5.37960284e+02  2.62687734e+02\n",
      " -1.63732478e+02 -8.99952356e+02  6.49497529e+02  6.19435338e+02\n",
      "  1.60088169e+03 -3.05556518e+02  5.06164377e+02  7.66563077e+02\n",
      "  5.90593002e+03 -5.21933925e+02 -3.48932996e+02 -3.17609582e+02\n",
      "  5.82498331e+03  1.01531106e+03  1.49667728e+03 -2.91553056e+02\n",
      "  4.90017652e+02  1.72339195e+02  9.42871331e+02  7.11504295e+02\n",
      "  2.46670278e+02 -3.48932996e+02  1.76030686e+03 -2.02270770e+03\n",
      " -2.90793051e+02 -1.24001052e+03 -3.17609582e+02 -1.27124657e+03\n",
      " -1.68651758e+03  1.16825037e+02  1.10439470e+03  7.60523559e+02\n",
      " -6.10755963e+02  1.01531106e+03 -1.29983430e+03 -1.23021609e+03\n",
      "  7.19505773e+02  3.73326693e+02 -1.53951910e+02 -1.16977148e+02\n",
      "  2.97895064e+02  1.59257615e+03  8.12166419e+02 -2.53164712e+02\n",
      "  6.26365206e+01 -4.90618992e+02 -7.82641426e+02  2.42949215e+02\n",
      "  4.51748936e+02 -2.70535024e+02 -4.01613532e+01  4.91930664e+02\n",
      "  3.56714372e+02  3.32912608e+02  7.13538732e+02 -7.55500644e+02\n",
      " -1.36000190e+02  1.81249136e+02 -5.68183709e+02 -2.22407889e+02\n",
      "  2.16442526e+02 -1.49759369e+02 -5.68183709e+02  3.20141648e+02\n",
      "  2.36677715e+02  1.02883823e+03  1.19985916e+02 -2.74498595e+01\n",
      "  1.20867374e+02  2.16442526e+02  2.01762601e+02  2.81247600e+01\n",
      "  5.37960284e+02  2.62687734e+02 -1.63732478e+02 -8.99952356e+02\n",
      " -7.86021675e+02 -5.57268746e+02 -7.75765700e+02 -1.63732478e+02\n",
      "  1.57638716e+02  5.65601899e+02 -1.15685802e+02  4.37271055e+02\n",
      " -6.84153534e+02  6.19435338e+02 -5.01827430e+02 -6.86307802e+02\n",
      " -3.05556518e+02  5.06164377e+02 -1.89886666e+02 -4.04605465e+02\n",
      "  5.90593002e+03 -5.21933925e+02 -3.48932996e+02 -3.17609582e+02\n",
      "  5.82498331e+03  1.01531106e+03  1.49667728e+03 -2.91553056e+02\n",
      "  4.90017652e+02  1.72339195e+02  9.42871331e+02  7.11504295e+02\n",
      "  2.46670278e+02 -3.48932996e+02  1.76030686e+03 -2.02270770e+03\n",
      " -2.90793051e+02 -1.24001052e+03 -3.17609582e+02 -1.27124657e+03\n",
      " -1.68651758e+03  1.16825037e+02  1.10439470e+03  7.60523559e+02\n",
      " -6.10755963e+02  1.01531106e+03 -1.29983430e+03 -1.23021609e+03\n",
      " -1.45863369e+02 -7.14337534e+01 -2.24115009e+02 -8.18535490e+01\n",
      " -2.07329995e+02 -2.67856336e+02  4.90017652e+02  2.21373724e+03\n",
      " -9.57894869e+02 -2.85478968e+03 -1.03041085e+03  1.72339195e+02\n",
      " -6.47681845e+02 -1.33638205e+03 -6.87781579e+01 -8.29485391e+02\n",
      " -7.35719998e+02 -1.10720452e+02  7.11504295e+02  1.43482304e+03\n",
      " -1.41529200e+02 -3.48932996e+02  1.76030686e+03 -2.02270770e+03\n",
      " -2.90793051e+02 -1.24001052e+03  1.76030686e+03  1.86960530e+03\n",
      "  3.28804782e+03 -2.58196977e+03 -5.67021199e+02  1.85397746e+03\n",
      "  2.05489112e+03 -2.90793051e+02 -8.36748052e+00  1.83208876e+03\n",
      " -3.17609582e+02 -1.27124657e+03 -1.68651758e+03  1.16825037e+02\n",
      " -8.93128658e+02 -2.06194998e+03  1.47781309e+03 -1.68651758e+03\n",
      "  4.89875458e+02  4.39246424e+02 -9.64447502e+02 -3.32184771e+02\n",
      " -5.76294917e+02  7.60523559e+02 -1.48433559e+03 -3.41315466e+02\n",
      "  1.01531106e+03 -1.29983430e+03  7.83627617e+02  2.56640720e+02\n",
      " -4.19901594e+02 -7.58234871e+02 -5.34624705e+01 -6.05673405e+01\n",
      " -9.67173871e+02  1.66552348e+01  3.73326693e+02  3.24976541e+02\n",
      "  3.74805650e+02 -4.34914250e+02 -8.76062369e+02 -1.53951910e+02\n",
      "  1.48166344e+02 -2.21755906e+02 -1.09359518e+02 -4.31173484e+02\n",
      " -3.47940423e+02 -9.56210069e+01  2.97895064e+02 -4.40623590e+01\n",
      " -1.95124520e+02  8.12166419e+02 -2.53164712e+02  6.26365206e+01\n",
      " -4.90618992e+02 -7.82641426e+02 -2.53164712e+02 -1.97159780e+02\n",
      "  1.19619644e+03 -5.54279386e+02 -2.24230415e+02  4.81827977e+01\n",
      "  2.83117946e+02 -4.90618992e+02 -4.56366039e+02  5.90791898e+02\n",
      "  2.42949215e+02  4.51748936e+02 -2.70535024e+02 -4.01613532e+01\n",
      " -8.17309437e+02 -9.66534666e+02 -3.44199161e+02 -2.70535024e+02\n",
      "  1.38550642e+03  4.02657724e+01  1.30640084e+02  6.77122199e+02\n",
      " -1.38893427e+01  3.56714372e+02  1.67000083e+02 -1.31276248e+02\n",
      "  7.13538732e+02 -7.55500644e+02 -1.29654772e+02  1.42538244e+01\n",
      "  1.81249136e+02 -5.68183709e+02 -2.22407889e+02  2.16442526e+02\n",
      " -1.49759369e+02 -5.68183709e+02  3.20141648e+02  2.36677715e+02\n",
      "  1.02883823e+03  1.19985916e+02 -2.74498595e+01  1.20867374e+02\n",
      "  2.16442526e+02  2.01762601e+02  2.81247600e+01 -5.68183709e+02\n",
      "  3.20141648e+02  2.36677715e+02  1.02883823e+03  5.29576709e+02\n",
      "  6.63272124e+02 -8.64005219e+02  2.36677715e+02 -2.09521000e+03\n",
      " -5.64021809e+02 -4.21015424e+02 -2.14439945e+03  2.28956682e+02\n",
      " -2.74498595e+01 -5.63732108e+02  1.70670205e+02  2.16442526e+02\n",
      "  2.01762601e+02  1.75378573e+02  2.84496613e+01  5.37960284e+02\n",
      "  2.62687734e+02 -1.63732478e+02 -8.99952356e+02 -7.86021675e+02\n",
      " -5.57268746e+02 -7.75765700e+02 -1.63732478e+02  1.57638716e+02\n",
      "  5.65601899e+02  3.17070793e+02  1.53525251e+03  4.18270567e+02\n",
      " -5.57268746e+02  7.29953687e+02  5.00968785e+02 -1.63732478e+02\n",
      "  1.57638716e+02 -1.36940889e+01 -1.46688455e+02  1.08537935e+02\n",
      "  1.23646014e+02  3.31853643e+01  4.37271055e+02 -6.56247356e+01\n",
      " -4.05320777e+01  6.19435338e+02 -5.01827430e+02  3.35652915e+02\n",
      "  5.56443607e+01 -3.05556518e+02  5.06164377e+02 -1.89886666e+02\n",
      "  4.21279872e+01  5.83699064e+01]\n",
      "6357.942008181496\n",
      "root mean squared error: 5411.63\n",
      "Coefficient of determination: 0.84\n"
     ]
    }
   ],
   "source": [
    "poly = PolynomialFeatures(degree=4)\n",
    "poly_variables = poly.fit_transform(X)\n",
    "\n",
    "X_train, X_test, y_train, y_test = train_test_split(poly_variables, y, test_size = 0.2, random_state = 42)\n",
    "\n",
    "regression = linear_model.LinearRegression()\n",
    "\n",
    "model = regression.fit(X_train, y_train)\n",
    "y_pred = model.predict(X_test)\n",
    "\n",
    "print(\"Coefficients: \\n\", model.coef_)\n",
    "print(model.intercept_)\n",
    "print(\"root mean squared error: %.2f\" % np.sqrt(mean_squared_error(y_test, y_pred)))\n",
    "print(\"Coefficient of determination: %.2f\" % r2_score(y_test, y_pred))"
   ]
  },
  {
   "cell_type": "code",
   "execution_count": null,
   "metadata": {},
   "outputs": [],
   "source": []
  },
  {
   "cell_type": "code",
   "execution_count": null,
   "metadata": {},
   "outputs": [],
   "source": []
  }
 ],
 "metadata": {
  "kernelspec": {
   "display_name": ".venv",
   "language": "python",
   "name": "python3"
  },
  "language_info": {
   "codemirror_mode": {
    "name": "ipython",
    "version": 3
   },
   "file_extension": ".py",
   "mimetype": "text/x-python",
   "name": "python",
   "nbconvert_exporter": "python",
   "pygments_lexer": "ipython3",
   "version": "3.12.3"
  }
 },
 "nbformat": 4,
 "nbformat_minor": 2
}
