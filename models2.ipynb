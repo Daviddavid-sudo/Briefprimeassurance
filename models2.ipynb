{
 "cells": [
  {
   "cell_type": "code",
   "execution_count": 81,
   "metadata": {},
   "outputs": [],
   "source": [
    "import pandas as pd\n",
    "import matplotlib as plt\n",
    "import seaborn as sns\n",
    "import numpy as np\n",
    "from sklearn.model_selection import train_test_split, RandomizedSearchCV, GridSearchCV\n",
    "from sklearn import linear_model\n",
    "from sklearn.linear_model import LinearRegression\n",
    "from sklearn.metrics import mean_squared_error, r2_score\n",
    "from sklearn.preprocessing import PolynomialFeatures"
   ]
  },
  {
   "cell_type": "code",
   "execution_count": 82,
   "metadata": {},
   "outputs": [],
   "source": [
    "data = pd.read_csv('cleaneddata.csv')\n",
    "X = data[['smoker','age', 'is_east', 'sex','bmi', 'is_north','children']]\n",
    "y = data['charges']"
   ]
  },
  {
   "cell_type": "code",
   "execution_count": 83,
   "metadata": {},
   "outputs": [
    {
     "name": "stderr",
     "output_type": "stream",
     "text": [
      "/tmp/ipykernel_4015/181865680.py:1: SettingWithCopyWarning: \n",
      "A value is trying to be set on a copy of a slice from a DataFrame.\n",
      "Try using .loc[row_indexer,col_indexer] = value instead\n",
      "\n",
      "See the caveats in the documentation: https://pandas.pydata.org/pandas-docs/stable/user_guide/indexing.html#returning-a-view-versus-a-copy\n",
      "  X['bmi'] = (X['bmi'] - X['bmi'].mean())/X['bmi'].std()\n",
      "/tmp/ipykernel_4015/181865680.py:2: SettingWithCopyWarning: \n",
      "A value is trying to be set on a copy of a slice from a DataFrame.\n",
      "Try using .loc[row_indexer,col_indexer] = value instead\n",
      "\n",
      "See the caveats in the documentation: https://pandas.pydata.org/pandas-docs/stable/user_guide/indexing.html#returning-a-view-versus-a-copy\n",
      "  X['age'] = (X['age'] - X['age'].mean())/X['age'].std()\n"
     ]
    }
   ],
   "source": [
    "X['bmi'] = (X['bmi'] - X['bmi'].mean())/X['bmi'].std()\n",
    "X['age'] = (X['age'] - X['age'].mean())/X['age'].std()"
   ]
  },
  {
   "cell_type": "code",
   "execution_count": 84,
   "metadata": {},
   "outputs": [
    {
     "name": "stdout",
     "output_type": "stream",
     "text": [
      "36\n",
      "Coefficients: \n",
      " [-1.95450493e-13  1.23816843e+04  4.16874884e+03  2.18748315e+02\n",
      " -1.37361473e+02 -3.77542047e+02  1.56185978e+02  9.44664872e+02\n",
      "  1.23816843e+04 -1.22562214e+02 -1.20902591e+03 -2.34761769e+02\n",
      "  8.93290334e+03  1.74889513e+02 -1.84223111e+02  6.08412100e+02\n",
      " -2.14427136e+02  6.47511888e+01  1.27053498e+02 -5.95007631e+02\n",
      "  6.55790539e+01  2.18748315e+02 -1.31485292e+02  6.97867169e+01\n",
      "  4.00982904e+02  3.23779214e+01 -1.37361473e+02  1.79392234e+01\n",
      "  4.09411497e+01 -2.20649438e+02 -2.09974149e+02  8.06390462e+02\n",
      " -1.36606377e+01  1.56185978e+02  4.06108230e+02 -1.08975851e+02]\n",
      "6978.25369877465\n",
      "root mean squared error: 4515.53\n",
      "Coefficient of determination: 0.86\n"
     ]
    }
   ],
   "source": [
    "poly = PolynomialFeatures(degree=2)\n",
    "poly_variables = poly.fit_transform(X)\n",
    "\n",
    "X_train, X_test, y_train, y_test = train_test_split(poly_variables, y, test_size = 0.3, random_state = 4)\n",
    "\n",
    "regression = linear_model.LinearRegression()\n",
    "\n",
    "model = regression.fit(X_train, y_train)\n",
    "y_pred = model.predict(X_test)\n",
    "\n",
    "print(model.n_features_in_)\n",
    "print(\"Coefficients: \\n\", model.coef_)\n",
    "print(model.intercept_)\n",
    "print(\"root mean squared error: %.2f\" % np.sqrt(mean_squared_error(y_test, y_pred)))\n",
    "print(\"Coefficient of determination: %.2f\" % r2_score(y_test, y_pred))"
   ]
  },
  {
   "cell_type": "code",
   "execution_count": 85,
   "metadata": {},
   "outputs": [
    {
     "name": "stdout",
     "output_type": "stream",
     "text": [
      "36\n",
      "Coefficients: \n",
      " [    0.         12381.65863129  4168.74465563   218.745233\n",
      "  -137.36293061  -377.53823766   156.18445788   944.66098317\n",
      " 12381.65863244  -122.56275145 -1208.99989536  -234.7396172\n",
      "  8932.89716067   174.90588151  -184.21565444   608.41186735\n",
      "  -214.42400703    64.75230182   127.05325349  -595.00569694\n",
      "    65.57945913   218.74523237  -131.48570048    69.78548118\n",
      "   400.98253645    32.3789541   -137.3629306     17.93861568\n",
      "    40.93960336  -220.64924383  -209.97432216   806.38817791\n",
      "   -13.66081745   156.18445711   406.10886966  -108.9753936 ]\n",
      "6978.264259985096\n",
      "root mean squared error: 4515.53\n",
      "Coefficient of determination: 0.86\n"
     ]
    }
   ],
   "source": [
    "poly = PolynomialFeatures(degree=2)\n",
    "poly_variables = poly.fit_transform(X)\n",
    "\n",
    "X_train, X_test, y_train, y_test = train_test_split(poly_variables, y, test_size = 0.3, random_state = 4)\n",
    "\n",
    "regression = linear_model.Ridge(alpha=0.0001)\n",
    "\n",
    "model = regression.fit(X_train, y_train)\n",
    "y_pred = model.predict(X_test)\n",
    "\n",
    "print(model.n_features_in_)\n",
    "print(\"Coefficients: \\n\", model.coef_)\n",
    "print(model.intercept_)\n",
    "print(\"root mean squared error: %.2f\" % np.sqrt(mean_squared_error(y_test, y_pred)))\n",
    "print(\"Coefficient of determination: %.2f\" % r2_score(y_test, y_pred))"
   ]
  },
  {
   "cell_type": "code",
   "execution_count": 86,
   "metadata": {},
   "outputs": [
    {
     "name": "stdout",
     "output_type": "stream",
     "text": [
      "Scoring R2\n",
      "Best R2 score   :  0.8244988210534684\n",
      "Best parameters :  {'alpha': np.float64(0.6709999999999999)}\n",
      "Scoring RMSE\n",
      "Best RMSE score  :  55.94426658729582\n",
      "Best parameters :  {'alpha': np.float64(0.001)}\n"
     ]
    }
   ],
   "source": [
    "poly = PolynomialFeatures(degree=2)\n",
    "poly_variables = poly.fit_transform(X)\n",
    "\n",
    "X_train, X_test, y_train, y_test = train_test_split(poly_variables, y, test_size = 0.3, random_state = 4)\n",
    "\n",
    "model = linear_model.Ridge()\n",
    "\n",
    "# test this range of alpha\n",
    "alpha_range = np.arange(0.001, 2, 0.01)\n",
    "\n",
    "param = {'alpha':alpha_range}\n",
    "\n",
    "# score base on r2\n",
    "grid_search_r2 = GridSearchCV(model,param_grid=param,cv=5)\n",
    "grid_search_r2.fit(X_train, y_train)\n",
    "\n",
    "# score base on MAE\n",
    "grid_search_MAE = GridSearchCV(model,param_grid=param,scoring ='neg_mean_absolute_error',cv=5)\n",
    "grid_search_MAE.fit(X_train, y_train)\n",
    "\n",
    "print('Scoring R2')\n",
    "print('Best R2 score   : ', grid_search_r2.best_score_)\n",
    "print('Best parameters : ', grid_search_r2.best_params_)\n",
    "\n",
    "\n",
    "print('Scoring RMSE')\n",
    "print('Best RMSE score  : ', np.sqrt(-grid_search_MAE.best_score_))\n",
    "print('Best parameters : ', grid_search_MAE.best_params_)"
   ]
  },
  {
   "cell_type": "code",
   "execution_count": 87,
   "metadata": {},
   "outputs": [
    {
     "name": "stdout",
     "output_type": "stream",
     "text": [
      "Scoring R2\n",
      "Best R2 score   :  0.8244988210534684\n",
      "Best parameters :  {'alpha': np.float64(0.6709999999999999)}\n",
      "Scoring RMSE\n",
      "Best RMSE score  :  55.94426658729582\n",
      "Best parameters :  {'alpha': np.float64(0.001)}\n"
     ]
    }
   ],
   "source": [
    "poly = PolynomialFeatures(degree=2)\n",
    "poly_variables = poly.fit_transform(X)\n",
    "\n",
    "X_train, X_test, y_train, y_test = train_test_split(poly_variables, y, test_size = 0.3, random_state = 4)\n",
    "\n",
    "regression = linear_model.Lasso(alpha=0.01, tol=0.1)\n",
    "\n",
    "\n",
    "# test this range of alpha\n",
    "alpha_range = np.arange(0.001, 2, 0.01)\n",
    "\n",
    "param = {'alpha':alpha_range}\n",
    "\n",
    "# score base on r2\n",
    "grid_search_r2 = GridSearchCV(model,param_grid=param,cv=5)\n",
    "grid_search_r2.fit(X_train, y_train)\n",
    "\n",
    "# score base on MAE\n",
    "grid_search_MAE = GridSearchCV(model,param_grid=param,scoring ='neg_mean_absolute_error',cv=5)\n",
    "grid_search_MAE.fit(X_train, y_train)\n",
    "\n",
    "print('Scoring R2')\n",
    "print('Best R2 score   : ', grid_search_r2.best_score_)\n",
    "print('Best parameters : ', grid_search_r2.best_params_)\n",
    "\n",
    "\n",
    "print('Scoring RMSE')\n",
    "print('Best RMSE score  : ', np.sqrt(-grid_search_MAE.best_score_))\n",
    "print('Best parameters : ', grid_search_MAE.best_params_)"
   ]
  },
  {
   "cell_type": "code",
   "execution_count": 88,
   "metadata": {},
   "outputs": [
    {
     "name": "stdout",
     "output_type": "stream",
     "text": [
      "Coefficients: \n",
      " [ 0.00000000e+00  2.34220831e+04  4.20422777e+03  4.99243965e+02\n",
      "  6.39859350e+01  1.70363632e+03  6.60944022e+02  5.33423563e+02\n",
      "  4.23875954e+02  3.22175544e+02 -2.99759901e+02  7.60118732e+02\n",
      "  8.40471892e+03  2.30481421e+02 -1.90982572e+02  5.26962481e+02\n",
      " -2.22453877e+02 -2.37713857e+02  1.00987088e+02 -4.52012241e+02\n",
      "  2.88610148e+01 -5.68040389e+02 -4.68642876e+02 -1.24432021e+03\n",
      "  4.76848143e+02  1.73656350e+02 -6.17083947e+02 -7.43720033e+02\n",
      "  1.23146115e+01 -6.67695767e+01 -2.06137879e+02 -3.89254129e+01\n",
      " -1.98754819e+02 -1.65831884e+02  2.78157491e+02 -3.47133874e+01]\n",
      "7584.023308916276\n",
      "root mean squared error: 4585.91\n",
      "Coefficient of determination: 0.85\n"
     ]
    }
   ],
   "source": [
    "poly = PolynomialFeatures(degree=2)\n",
    "poly_variables = poly.fit_transform(X)\n",
    "\n",
    "X_train, X_test, y_train, y_test = train_test_split(poly_variables, y, test_size = 0.3, random_state = 4)\n",
    "\n",
    "regression = linear_model.Lasso(alpha=1.67, tol=0.1)\n",
    "\n",
    "model = regression.fit(X_train, y_train)\n",
    "y_pred = model.predict(X_test)\n",
    "\n",
    "print(\"Coefficients: \\n\", model.coef_)\n",
    "print(model.intercept_)\n",
    "print(\"root mean squared error: %.2f\" % np.sqrt(mean_squared_error(y_test, y_pred)))\n",
    "print(\"Coefficient of determination: %.2f\" % r2_score(y_test, y_pred))"
   ]
  },
  {
   "cell_type": "code",
   "execution_count": 89,
   "metadata": {},
   "outputs": [
    {
     "name": "stdout",
     "output_type": "stream",
     "text": [
      "Coefficients: \n",
      " [-1.37858801e-13  8.36820644e+03  4.18853997e+03  1.28488131e+02\n",
      " -1.46168411e+02  9.33955401e+01 -1.63867898e+02  3.65064814e+02\n",
      "  8.36820644e+03 -1.95684298e+02 -4.68564984e+02  9.34232439e+00\n",
      "  5.96296562e+03  4.98246523e+02 -5.59426786e+01  2.34324264e+02\n",
      "  3.94953694e+02 -6.17232104e-01 -1.50146010e+02 -3.85947302e+01\n",
      " -2.96729380e+02  1.28488131e+02 -7.28013637e+00 -1.44850138e+02\n",
      "  1.33592259e+02 -2.35803876e+02 -1.46168411e+02  1.33484029e+02\n",
      "  1.92000687e+02 -2.62013199e+02  2.02062219e+02  4.16075567e+02\n",
      " -3.94004054e+01 -1.63867898e+02  1.11808861e+03 -1.68380662e+02\n",
      "  8.36820644e+03 -1.95684298e+02 -4.68564984e+02  9.34232439e+00\n",
      "  5.96296562e+03  4.98246523e+02 -5.59426786e+01 -2.38373382e+02\n",
      " -9.64974689e+02  1.18389261e+03  5.23909925e+02 -3.18843620e+02\n",
      "  6.78137636e+01 -4.68564984e+02  2.30017992e+03 -1.33212718e+03\n",
      "  5.87215277e+01 -7.69567272e+02  9.34232439e+00 -1.76651329e+02\n",
      " -3.00906390e+03 -2.62718109e+02 -9.88390320e+02 -1.19903161e+03\n",
      " -6.74034723e+02  4.98246523e+02  4.33200831e+01  2.25939300e+02\n",
      " -9.68756437e+01  1.45895813e+02  1.90555519e+01 -1.49054881e+02\n",
      " -5.47848876e+01  3.84985241e+02  3.94953694e+02 -3.71643092e+02\n",
      "  1.01287178e+02 -6.90493221e+02 -3.62015890e+02 -6.17232104e-01\n",
      " -2.68308448e+02 -2.23072792e+02  2.27930301e+02 -1.44841523e+02\n",
      " -5.87814860e+00  1.90170494e+02 -3.85947302e+01 -1.43308850e+02\n",
      "  1.33962661e+02  1.28488131e+02 -7.28013637e+00 -1.44850138e+02\n",
      "  1.33592259e+02 -2.35803876e+02 -7.28013637e+00 -2.93468804e+02\n",
      " -6.03462038e+02 -6.64063856e+01  5.10727532e+01  9.98447485e+02\n",
      "  1.06400209e+02  1.33592259e+02  3.46187866e+02  1.79679555e+02\n",
      " -1.46168411e+02  1.33484029e+02  1.92000687e+02 -2.62013199e+02\n",
      " -1.03248208e+02 -7.12104236e+02  3.87169971e+02  1.92000687e+02\n",
      "  4.20130479e+02  6.14207110e+01 -1.43599065e+02  8.82683951e+01\n",
      " -1.07481234e+02  4.16075567e+02  2.89820460e+01 -3.07029718e+01\n",
      " -1.63867898e+02  1.11808861e+03 -6.61060874e+02  3.93795797e+01]\n",
      "7526.252599782575\n",
      "root mean squared error: 4616.74\n",
      "Coefficient of determination: 0.85\n"
     ]
    }
   ],
   "source": [
    "poly = PolynomialFeatures(degree=3)\n",
    "poly_variables = poly.fit_transform(X)\n",
    "\n",
    "X_train, X_test, y_train, y_test = train_test_split(poly_variables, y, test_size = 0.3, random_state = 4)\n",
    "\n",
    "regression = linear_model.LinearRegression()\n",
    "\n",
    "model = regression.fit(X_train, y_train)\n",
    "y_pred = model.predict(X_test)\n",
    "\n",
    "print(\"Coefficients: \\n\", model.coef_)\n",
    "print(model.intercept_)\n",
    "print(\"root mean squared error: %.2f\" % np.sqrt(mean_squared_error(y_test, y_pred)))\n",
    "print(\"Coefficient of determination: %.2f\" % r2_score(y_test, y_pred))"
   ]
  },
  {
   "cell_type": "code",
   "execution_count": 90,
   "metadata": {},
   "outputs": [
    {
     "name": "stdout",
     "output_type": "stream",
     "text": [
      "Coefficients: \n",
      " [ 1.86621354e-11  6.00404985e+03  6.53269470e+02  3.03281121e+02\n",
      "  7.94955973e+02 -5.52881591e+02 -8.17925602e+01  5.26569424e+02\n",
      "  6.00404985e+03  1.09702073e+03 -5.88830803e+02  6.80478144e+01\n",
      "  5.64142747e+03  6.15039698e+02 -8.87337447e+02  1.84198479e+03\n",
      "  7.49529526e+02  9.94194986e+02 -1.10707834e+03  3.91456181e+02\n",
      "  2.13638901e+03  3.03281121e+02 -5.21249367e+02 -7.35293711e+02\n",
      "  1.44271761e+02 -8.84630461e+02  7.94955973e+02  1.06836919e+02\n",
      " -3.76634922e+02 -2.76259225e+03  2.62173730e+02  6.06877840e+02\n",
      "  1.38449851e+03 -8.17925602e+01  9.88770466e+02  1.83145470e+03\n",
      "  6.00404985e+03  1.09702073e+03 -5.88830803e+02  6.80478144e+01\n",
      "  5.64142747e+03  6.15039698e+02 -8.87337447e+02  4.80783747e+02\n",
      " -6.36040494e+02  3.68054587e+02 -7.31376789e+02 -1.18190024e+03\n",
      " -1.13406482e+03 -5.88830803e+02  9.42685008e+02 -2.46701787e+02\n",
      "  3.45460353e+02  1.12912527e+02  6.80478144e+01 -1.08637895e+03\n",
      " -1.87684956e+03  6.45742680e+02  1.00516259e+03 -1.11771794e+03\n",
      " -1.46183115e+03  6.15039698e+02  4.58840730e+02  5.61853537e+02\n",
      "  1.31236929e+03 -3.33082644e+01 -7.40574267e+02  9.48155505e+01\n",
      " -1.39432400e+02  1.20854067e+03  7.49529526e+02 -2.49479519e+02\n",
      "  1.39793156e+02 -3.21071593e+02 -5.39808053e+02  9.94194986e+02\n",
      "  6.75207284e+02 -4.98770349e+02 -3.96504328e+02  1.80089243e+02\n",
      "  2.69285312e+02  4.61600648e+02  3.91456181e+02 -1.05012441e+03\n",
      " -6.81574112e+02  3.03281121e+02 -5.21249367e+02 -7.35293711e+02\n",
      "  1.44271761e+02 -8.84630461e+02 -5.21249367e+02  7.99696800e+02\n",
      " -1.40877022e+02  2.25156430e+03  4.26292397e+02  8.23622222e+02\n",
      "  8.31426414e+02  1.44271761e+02  1.14578244e+03 -1.11417616e+02\n",
      "  7.94955973e+02  1.06836919e+02 -3.76634922e+02 -2.76259225e+03\n",
      " -6.51064695e+02 -4.54930823e+02 -6.96512718e+02 -3.76634922e+02\n",
      "  6.26423197e+02  1.87130632e+03 -1.57257380e+01  2.44600491e+02\n",
      " -2.50002226e+02  6.06877840e+02 -4.11260744e+02 -5.60834097e+02\n",
      " -8.17925602e+01  9.88770466e+02 -9.24218767e+02 -1.01039318e+03\n",
      "  6.00404985e+03  1.09702073e+03 -5.88830803e+02  6.80478144e+01\n",
      "  5.64142747e+03  6.15039698e+02 -8.87337447e+02  4.80783747e+02\n",
      " -6.36040494e+02  3.68054587e+02 -7.31376789e+02 -1.18190024e+03\n",
      " -1.13406482e+03 -5.88830803e+02  9.42685008e+02 -2.46701787e+02\n",
      "  3.45460353e+02  1.12912527e+02  6.80478144e+01 -1.08637895e+03\n",
      " -1.87684956e+03  6.45742680e+02  1.00516259e+03 -1.11771794e+03\n",
      " -1.46183115e+03  6.15039698e+02  4.58840730e+02  5.61853537e+02\n",
      " -8.76884454e+02  1.33162509e+02 -7.34996952e+01 -8.78393253e+02\n",
      " -1.90267778e+03 -3.41836335e+02 -6.36040494e+02  1.46562276e+03\n",
      "  2.38200330e+03  3.43436486e+03 -3.59254464e+02  3.68054587e+02\n",
      " -4.35535270e+02 -2.53826804e+03  7.67695650e+02 -1.40614439e+03\n",
      " -5.95304639e+02  2.71417069e+02 -1.18190024e+03  3.52764071e+03\n",
      "  3.02961542e+02 -5.88830803e+02  9.42685008e+02 -2.46701787e+02\n",
      "  3.45460353e+02  1.12912527e+02  9.42685008e+02 -9.00957290e+02\n",
      "  5.07180924e+03 -2.42107742e+03  2.23922082e+02  3.51511855e+02\n",
      "  5.79319752e+02  3.45460353e+02 -3.94469826e+03  7.42304689e+02\n",
      "  6.80478144e+01 -1.08637895e+03 -1.87684956e+03  6.45742680e+02\n",
      " -1.59671056e+03  1.84092146e+03  2.63883614e+03 -1.87684956e+03\n",
      "  4.13227129e+02 -2.08816609e+02 -1.17027906e+03 -2.81990114e+03\n",
      " -2.67533720e+02 -1.11771794e+03  7.28691857e+02  2.92310531e+01\n",
      "  6.15039698e+02  4.58840730e+02  2.26959286e+02 -2.38145457e+02\n",
      " -4.89992982e+02 -6.56875300e+02 -9.86482138e+02  1.46097876e+02\n",
      " -1.03562238e+02 -3.85775694e+01 -3.33082644e+01  1.24548031e+03\n",
      "  4.50697278e+02 -9.44469957e+00 -3.47291518e+02 -7.40574267e+02\n",
      " -1.72680141e+02  1.49980063e+03  3.88892647e+02 -4.33764593e+02\n",
      " -5.14421216e+02 -1.47820612e+02 -1.39432400e+02 -4.10672757e+02\n",
      " -2.30041628e+02  7.49529526e+02 -2.49479519e+02  1.39793156e+02\n",
      " -3.21071593e+02 -5.39808053e+02 -2.49479519e+02 -3.60269193e+02\n",
      "  2.31671543e+02 -1.26444846e+02 -2.92344628e+02 -6.57225305e+02\n",
      " -9.96305716e+01 -3.21071593e+02 -5.01479511e+01  3.10942427e+02\n",
      "  9.94194986e+02  6.75207284e+02 -4.98770349e+02 -3.96504328e+02\n",
      " -3.38721142e+02 -1.14522501e+03 -4.22038478e+02 -4.98770349e+02\n",
      "  1.07570787e+03 -1.89987176e+01  8.80398823e+01  1.73439573e+02\n",
      "  4.06497840e+01  2.69285312e+02 -3.87978897e+02  5.09390292e+01\n",
      "  3.91456181e+02 -1.05012441e+03  3.40580329e+02  7.84331948e+01\n",
      "  3.03281121e+02 -5.21249367e+02 -7.35293711e+02  1.44271761e+02\n",
      " -8.84630461e+02 -5.21249367e+02  7.99696800e+02 -1.40877022e+02\n",
      "  2.25156430e+03  4.26292397e+02  8.23622222e+02  8.31426414e+02\n",
      "  1.44271761e+02  1.14578244e+03 -1.11417616e+02 -5.21249367e+02\n",
      "  7.99696800e+02 -1.40877022e+02  2.25156430e+03 -4.61112001e+02\n",
      " -2.17548158e+03 -7.97085010e+02 -1.40877022e+02 -5.11304206e+02\n",
      " -2.11440233e+03 -3.20746648e+02 -1.60285244e+03  9.38813149e+00\n",
      "  8.23622222e+02 -2.91561528e+02 -3.43261103e+02  1.44271761e+02\n",
      "  1.14578244e+03 -7.93224564e+02  3.42739983e+02  7.94955973e+02\n",
      "  1.06836919e+02 -3.76634922e+02 -2.76259225e+03 -6.51064695e+02\n",
      " -4.54930823e+02 -6.96512718e+02 -3.76634922e+02  6.26423197e+02\n",
      "  1.87130632e+03  2.32355688e+02  1.25249000e+03  6.82292524e+02\n",
      " -4.54930823e+02  8.33800994e+02  4.59706603e+02 -3.76634922e+02\n",
      "  6.26423197e+02 -2.73655827e+02 -4.59869236e+02  1.33609479e+02\n",
      "  1.12873154e+02 -7.75939398e+01  2.44600491e+02  1.19367185e+02\n",
      " -1.05247513e+02  6.06877840e+02 -4.11260744e+02  2.56536041e+02\n",
      "  5.20768050e+01 -8.17925602e+01  9.88770466e+02 -9.24218767e+02\n",
      "  3.00127064e+02  1.31266733e+02]\n",
      "6295.866752386969\n",
      "root mean squared error: 5581.43\n",
      "Coefficient of determination: 0.78\n"
     ]
    }
   ],
   "source": [
    "poly = PolynomialFeatures(degree=4)\n",
    "poly_variables = poly.fit_transform(X)\n",
    "\n",
    "X_train, X_test, y_train, y_test = train_test_split(poly_variables, y, test_size = 0.3, random_state = 4)\n",
    "\n",
    "regression = linear_model.LinearRegression()\n",
    "\n",
    "model = regression.fit(X_train, y_train)\n",
    "y_pred = model.predict(X_test)\n",
    "\n",
    "print(\"Coefficients: \\n\", model.coef_)\n",
    "print(model.intercept_)\n",
    "print(\"root mean squared error: %.2f\" % np.sqrt(mean_squared_error(y_test, y_pred)))\n",
    "print(\"Coefficient of determination: %.2f\" % r2_score(y_test, y_pred))"
   ]
  },
  {
   "cell_type": "code",
   "execution_count": null,
   "metadata": {},
   "outputs": [],
   "source": []
  },
  {
   "cell_type": "code",
   "execution_count": null,
   "metadata": {},
   "outputs": [],
   "source": []
  }
 ],
 "metadata": {
  "kernelspec": {
   "display_name": ".venv",
   "language": "python",
   "name": "python3"
  },
  "language_info": {
   "codemirror_mode": {
    "name": "ipython",
    "version": 3
   },
   "file_extension": ".py",
   "mimetype": "text/x-python",
   "name": "python",
   "nbconvert_exporter": "python",
   "pygments_lexer": "ipython3",
   "version": "3.12.3"
  }
 },
 "nbformat": 4,
 "nbformat_minor": 2
}
