{
 "cells": [
  {
   "cell_type": "code",
   "execution_count": 1,
   "metadata": {},
   "outputs": [],
   "source": [
    "import pandas as pd\n",
    "import numpy as np\n",
    "from sklearn.model_selection import train_test_split, GridSearchCV\n",
    "from sklearn import linear_model\n",
    "from sklearn.linear_model import LinearRegression\n",
    "from sklearn.metrics import mean_squared_error, r2_score\n",
    "from sklearn.preprocessing import PolynomialFeatures"
   ]
  },
  {
   "cell_type": "code",
   "execution_count": 2,
   "metadata": {},
   "outputs": [],
   "source": [
    "data = pd.read_csv('cleaneddata.csv')\n",
    "X = data[['smoker','age', 'is_east', 'sex','bmi', 'is_north','children']]\n",
    "y = data['charges']"
   ]
  },
  {
   "cell_type": "code",
   "execution_count": 3,
   "metadata": {},
   "outputs": [
    {
     "name": "stderr",
     "output_type": "stream",
     "text": [
      "/tmp/ipykernel_18837/181865680.py:1: SettingWithCopyWarning: \n",
      "A value is trying to be set on a copy of a slice from a DataFrame.\n",
      "Try using .loc[row_indexer,col_indexer] = value instead\n",
      "\n",
      "See the caveats in the documentation: https://pandas.pydata.org/pandas-docs/stable/user_guide/indexing.html#returning-a-view-versus-a-copy\n",
      "  X['bmi'] = (X['bmi'] - X['bmi'].mean())/X['bmi'].std()\n",
      "/tmp/ipykernel_18837/181865680.py:2: SettingWithCopyWarning: \n",
      "A value is trying to be set on a copy of a slice from a DataFrame.\n",
      "Try using .loc[row_indexer,col_indexer] = value instead\n",
      "\n",
      "See the caveats in the documentation: https://pandas.pydata.org/pandas-docs/stable/user_guide/indexing.html#returning-a-view-versus-a-copy\n",
      "  X['age'] = (X['age'] - X['age'].mean())/X['age'].std()\n"
     ]
    }
   ],
   "source": [
    "X['bmi'] = (X['bmi'] - X['bmi'].mean())/X['bmi'].std()\n",
    "X['age'] = (X['age'] - X['age'].mean())/X['age'].std()"
   ]
  },
  {
   "cell_type": "code",
   "execution_count": 4,
   "metadata": {},
   "outputs": [
    {
     "name": "stdout",
     "output_type": "stream",
     "text": [
      "root mean squared error: 4577.96\n",
      "Coefficient of determination: 0.89\n"
     ]
    }
   ],
   "source": [
    "poly = PolynomialFeatures(degree=2)\n",
    "poly_variables = poly.fit_transform(X)\n",
    "\n",
    "X_train, X_test, y_train, y_test = train_test_split(poly_variables, y, test_size = 0.2, random_state = 42)\n",
    "\n",
    "regression = linear_model.LinearRegression()\n",
    "\n",
    "model = regression.fit(X_train, y_train)\n",
    "y_pred = model.predict(X_test)\n",
    "\n",
    "print(\"root mean squared error: %.2f\" % np.sqrt(mean_squared_error(y_test, y_pred)))\n",
    "print(\"Coefficient of determination: %.2f\" % r2_score(y_test, y_pred))"
   ]
  },
  {
   "cell_type": "code",
   "execution_count": 5,
   "metadata": {},
   "outputs": [
    {
     "name": "stdout",
     "output_type": "stream",
     "text": [
      "root mean squared error: 4577.96\n",
      "Coefficient of determination: 0.89\n"
     ]
    }
   ],
   "source": [
    "poly = PolynomialFeatures(degree=2)\n",
    "poly_variables = poly.fit_transform(X)\n",
    "\n",
    "X_train, X_test, y_train, y_test = train_test_split(poly_variables, y, test_size = 0.2, random_state = 42)\n",
    "\n",
    "regression = linear_model.Ridge(alpha=0.0001)\n",
    "\n",
    "model = regression.fit(X_train, y_train)\n",
    "y_pred = model.predict(X_test)\n",
    "\n",
    "print(\"root mean squared error: %.2f\" % np.sqrt(mean_squared_error(y_test, y_pred)))\n",
    "print(\"Coefficient of determination: %.2f\" % r2_score(y_test, y_pred))"
   ]
  },
  {
   "cell_type": "code",
   "execution_count": 6,
   "metadata": {},
   "outputs": [
    {
     "name": "stdout",
     "output_type": "stream",
     "text": [
      "Scoring R2\n",
      "Best R2 score   :  0.82193889958598\n",
      "Best parameters :  {'alpha': np.float64(1.0309999999999997)}\n",
      "Scoring RMSE\n",
      "Best RMSE score  :  54.90542118665193\n",
      "Best parameters :  {'alpha': np.float64(0.001)}\n"
     ]
    }
   ],
   "source": [
    "poly = PolynomialFeatures(degree=2)\n",
    "poly_variables = poly.fit_transform(X)\n",
    "\n",
    "X_train, X_test, y_train, y_test = train_test_split(poly_variables, y, test_size = 0.2, random_state = 42)\n",
    "\n",
    "model = linear_model.Ridge()\n",
    "\n",
    "# test this range of alpha\n",
    "alpha_range = np.arange(0.001, 2, 0.01)\n",
    "\n",
    "param = {'alpha':alpha_range}\n",
    "\n",
    "# score base on r2\n",
    "grid_search_r2 = GridSearchCV(model,param_grid=param,cv=5)\n",
    "grid_search_r2.fit(X_train, y_train)\n",
    "\n",
    "# score base on MAE\n",
    "grid_search_MAE = GridSearchCV(model,param_grid=param,scoring ='neg_mean_absolute_error',cv=5)\n",
    "grid_search_MAE.fit(X_train, y_train)\n",
    "\n",
    "print('Scoring R2')\n",
    "print('Best R2 score   : ', grid_search_r2.best_score_)\n",
    "print('Best parameters : ', grid_search_r2.best_params_)\n",
    "\n",
    "\n",
    "print('Scoring RMSE')\n",
    "print('Best RMSE score  : ', np.sqrt(-grid_search_MAE.best_score_))\n",
    "print('Best parameters : ', grid_search_MAE.best_params_)"
   ]
  },
  {
   "cell_type": "code",
   "execution_count": 7,
   "metadata": {},
   "outputs": [
    {
     "name": "stdout",
     "output_type": "stream",
     "text": [
      "Scoring R2\n",
      "Best R2 score   :  0.82193889958598\n",
      "Best parameters :  {'alpha': np.float64(1.0309999999999997)}\n",
      "Scoring RMSE\n",
      "Best RMSE score  :  54.90542118665193\n",
      "Best parameters :  {'alpha': np.float64(0.001)}\n"
     ]
    }
   ],
   "source": [
    "poly = PolynomialFeatures(degree=2)\n",
    "poly_variables = poly.fit_transform(X)\n",
    "\n",
    "X_train, X_test, y_train, y_test = train_test_split(poly_variables, y, test_size = 0.2, random_state = 42)\n",
    "\n",
    "regression = linear_model.Lasso(alpha=0.01, tol=0.1)\n",
    "\n",
    "\n",
    "# test this range of alpha\n",
    "alpha_range = np.arange(0.001, 2, 0.01)\n",
    "\n",
    "param = {'alpha':alpha_range}\n",
    "\n",
    "# score base on r2\n",
    "grid_search_r2 = GridSearchCV(model,param_grid=param,cv=5)\n",
    "grid_search_r2.fit(X_train, y_train)\n",
    "\n",
    "# score base on MAE\n",
    "grid_search_MAE = GridSearchCV(model,param_grid=param,scoring ='neg_mean_absolute_error',cv=5)\n",
    "grid_search_MAE.fit(X_train, y_train)\n",
    "\n",
    "print('Scoring R2')\n",
    "print('Best R2 score   : ', grid_search_r2.best_score_)\n",
    "print('Best parameters : ', grid_search_r2.best_params_)\n",
    "\n",
    "\n",
    "print('Scoring RMSE')\n",
    "print('Best RMSE score  : ', np.sqrt(-grid_search_MAE.best_score_))\n",
    "print('Best parameters : ', grid_search_MAE.best_params_)"
   ]
  },
  {
   "cell_type": "code",
   "execution_count": 8,
   "metadata": {},
   "outputs": [
    {
     "name": "stdout",
     "output_type": "stream",
     "text": [
      "root mean squared error: 4706.97\n",
      "Coefficient of determination: 0.88\n"
     ]
    }
   ],
   "source": [
    "poly = PolynomialFeatures(degree=2)\n",
    "poly_variables = poly.fit_transform(X)\n",
    "\n",
    "X_train, X_test, y_train, y_test = train_test_split(poly_variables, y, test_size = 0.2, random_state = 42)\n",
    "\n",
    "regression = linear_model.Lasso(alpha=1.67, tol=0.1)\n",
    "\n",
    "model = regression.fit(X_train, y_train)\n",
    "y_pred = model.predict(X_test)\n",
    "\n",
    "print(\"root mean squared error: %.2f\" % np.sqrt(mean_squared_error(y_test, y_pred)))\n",
    "print(\"Coefficient of determination: %.2f\" % r2_score(y_test, y_pred))"
   ]
  },
  {
   "cell_type": "code",
   "execution_count": 9,
   "metadata": {},
   "outputs": [
    {
     "name": "stdout",
     "output_type": "stream",
     "text": [
      "root mean squared error: 4850.26\n",
      "Coefficient of determination: 0.87\n"
     ]
    }
   ],
   "source": [
    "poly = PolynomialFeatures(degree=3)\n",
    "poly_variables = poly.fit_transform(X)\n",
    "\n",
    "X_train, X_test, y_train, y_test = train_test_split(poly_variables, y, test_size = 0.2, random_state = 42)\n",
    "\n",
    "regression = linear_model.LinearRegression()\n",
    "\n",
    "model = regression.fit(X_train, y_train)\n",
    "y_pred = model.predict(X_test)\n",
    "\n",
    "print(\"root mean squared error: %.2f\" % np.sqrt(mean_squared_error(y_test, y_pred)))\n",
    "print(\"Coefficient of determination: %.2f\" % r2_score(y_test, y_pred))"
   ]
  },
  {
   "cell_type": "code",
   "execution_count": 10,
   "metadata": {},
   "outputs": [
    {
     "name": "stdout",
     "output_type": "stream",
     "text": [
      "root mean squared error: 5411.63\n",
      "Coefficient of determination: 0.84\n"
     ]
    }
   ],
   "source": [
    "poly = PolynomialFeatures(degree=4)\n",
    "poly_variables = poly.fit_transform(X)\n",
    "\n",
    "X_train, X_test, y_train, y_test = train_test_split(poly_variables, y, test_size = 0.2, random_state = 42)\n",
    "\n",
    "regression = linear_model.LinearRegression()\n",
    "\n",
    "model = regression.fit(X_train, y_train)\n",
    "y_pred = model.predict(X_test)\n",
    "\n",
    "print(\"root mean squared error: %.2f\" % np.sqrt(mean_squared_error(y_test, y_pred)))\n",
    "print(\"Coefficient of determination: %.2f\" % r2_score(y_test, y_pred))"
   ]
  }
 ],
 "metadata": {
  "kernelspec": {
   "display_name": ".venv",
   "language": "python",
   "name": "python3"
  },
  "language_info": {
   "codemirror_mode": {
    "name": "ipython",
    "version": 3
   },
   "file_extension": ".py",
   "mimetype": "text/x-python",
   "name": "python",
   "nbconvert_exporter": "python",
   "pygments_lexer": "ipython3",
   "version": "3.12.3"
  }
 },
 "nbformat": 4,
 "nbformat_minor": 2
}
