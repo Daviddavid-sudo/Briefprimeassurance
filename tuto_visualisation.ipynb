{
 "cells": [
  {
   "cell_type": "code",
   "execution_count": null,
   "metadata": {},
   "outputs": [],
   "source": [
    "#Scatterplot\n",
    "\n",
    "sns.scatterplot(data=df, x=\"IMC\", y=\"charges\", hue=\"genre\")"
   ]
  },
  {
   "cell_type": "code",
   "execution_count": null,
   "metadata": {},
   "outputs": [],
   "source": [
    "#Barplot\n",
    "\n",
    "df_charges_fumeur = {\n",
    "    \"region\": [\"northwest\", \"northeast\", \"southwest\", \"southeast\"],\n",
    "    \"charges\": [\n",
    "        charge_northeast1, charge_northwest2, charge_southwest4, charge_southeast3,\n",
    "    ]\n",
    "}\n",
    "\n",
    "sns.barplot(x=\"region\", y=\"charges\", data=df_charges_fumeur)"
   ]
  },
  {
   "cell_type": "code",
   "execution_count": null,
   "metadata": {},
   "outputs": [],
   "source": [
    "#Barplot à 2 colonnes\n",
    "\n",
    "df_charges = {\n",
    "    \"region\": [\"northeast\", \"southeast\", \"northwest\", \"southwest\"] * 2,\n",
    "    \"charges\": [\n",
    "        charge_homme_northeast, charge_homme_southeast, charge_homme_northwest, charge_homme_southwest,\n",
    "        charge_femme_northeast, charge_femme_southeast, charge_femme_northwest, charge_femme_southwest\n",
    "    ],\n",
    "    \"genre\": [\"Homme\"] * 4 + [\"Femme\"] * 4\n",
    "}\n",
    "\n",
    "sns.barplot(x=\"region\", y=\"charges\", hue=\"genre\", data=df_charges)\n"
   ]
  },
  {
   "cell_type": "code",
   "execution_count": null,
   "metadata": {},
   "outputs": [],
   "source": [
    "#Violinplot\n",
    "\n",
    "charge_fumeur_region_southwest = df[(df[\"region_southwest\"] == 1.0) & (df[\"fumeur\"] == 1)] [[\"charges\"]]\n",
    "sns.violinplot(y = charge_fumeur_region_southwest[\"charges\"])"
   ]
  }
 ],
 "metadata": {
  "language_info": {
   "name": "python"
  }
 },
 "nbformat": 4,
 "nbformat_minor": 2
}
