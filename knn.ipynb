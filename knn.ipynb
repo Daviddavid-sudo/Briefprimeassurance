{
 "cells": [
  {
   "cell_type": "code",
   "execution_count": 79,
   "metadata": {},
   "outputs": [],
   "source": [
    "import pandas as pd\n",
    "import numpy as np\n",
    "from sklearn.model_selection import train_test_split, GridSearchCV\n",
    "from sklearn import linear_model\n",
    "from sklearn.linear_model import LinearRegression\n",
    "from sklearn.metrics import mean_squared_error, r2_score\n",
    "from sklearn.preprocessing import PolynomialFeatures\n",
    "from sklearn.neighbors import KNeighborsRegressor\n",
    "from sklearn.model_selection import LeaveOneOut, KFold\n",
    "from sklearn.pipeline import Pipeline"
   ]
  },
  {
   "cell_type": "code",
   "execution_count": 80,
   "metadata": {},
   "outputs": [],
   "source": [
    "data = pd.read_csv('cleaneddata.csv')\n",
    "data['underweight'] = [1 if x < 17.85 else 0 for x in data['bmi']]\n",
    "data['normal']= [1 if x >= 17.85 and x<=30.5 else 0 for x in data['bmi']]\n",
    "data['overweight'] = [1 if x > 30.5 and x <= 37.5 else 0 for x in data['bmi']]\n",
    "data['severlyoverweight'] = [1 if x > 37.5 and x <= 45.5 else 0 for x in data['bmi']]\n",
    "data['ogre'] = [1 if x > 45.5 else 0 for x in data['bmi']]\n",
    "data['nokid'] = [1 if x ==0 else 0 for x in data['children']]\n",
    "data['onekid'] = [1 if x ==1 else 0 for x in data['children']]\n",
    "data['twokid'] = [1 if x ==2 else 0 for x in data['children']]\n",
    "data['threekid'] = [1 if x ==3 else 0 for x in data['children']]\n",
    "data['fourkid'] = [1 if x ==4 else 0 for x in data['children']]\n",
    "data['fivekid'] = [1 if x ==5 else 0 for x in data['children']]\n",
    "data['elderfemale'] = [1 if x > 60.75 and x else 0 for x in data['age']]\n",
    "data['middleagefemale'] = [1 if x <= 60.75 and x>47.5 else 0 for x in data['age']]\n",
    "data['youngerfemale'] = [1 if x <= 46.5 and x>42.5 else 0 for x in data['age']]\n",
    "data['youngfemale'] = [1 if x <= 38 and x>31 else 0 for x in data['age']]\n",
    "data['teens']= [1 if x <=21.5 else 0 for x in data['age']]\n",
    "data['test'] = [1 if x <= 31 and x>21.5 else 0 for x in data['age']]"
   ]
  },
  {
   "cell_type": "code",
   "execution_count": 94,
   "metadata": {},
   "outputs": [],
   "source": [
    "X = data[['smoker','normal', 'is_east','is_north','underweight', 'overweight','severlyoverweight','ogre','nokid', 'onekid', 'twokid','fourkid', 'fivekid','test','elderfemale','middleagefemale', 'youngerfemale', 'youngfemale', 'teens', 'sex']]\n",
    "y = data['charges']"
   ]
  },
  {
   "cell_type": "code",
   "execution_count": 82,
   "metadata": {},
   "outputs": [
    {
     "name": "stdout",
     "output_type": "stream",
     "text": [
      "Best parameters: {'knn__algorithm': 'kd_tree', 'knn__metric': 'cityblock', 'knn__n_neighbors': np.int64(11), 'knn__weights': 'distance'}\n"
     ]
    }
   ],
   "source": [
    "model_pipeline = Pipeline(steps=[\n",
    "    ('poly', PolynomialFeatures(degree=2)),\n",
    "    ('knn', KNeighborsRegressor()),\n",
    "])\n",
    "\n",
    "X_train, X_test, y_train, y_test = train_test_split(X, y, shuffle=True, train_size=0.85, random_state=42, stratify=X['smoker'])\n",
    "\n",
    "params = {\n",
    "    'knn__n_neighbors': np.arange(1,30),\n",
    "    'knn__weights': ['uniform', 'distance'],\n",
    "    'knn__algorithm': ['auto', 'ball_tree', 'kd_tree', 'brute'],\n",
    "    'knn__metric': ['cityblock', 'euclidean', 'l1', 'l2', 'manhattan'],\n",
    "}\n",
    "\n",
    "\n",
    "grid_search = GridSearchCV(model_pipeline, param_grid=params, cv=5, error_score='raise')\n",
    "grid_search.fit(X_train, y_train)\n",
    "print(f\"Best parameters: {grid_search.best_params_}\")"
   ]
  },
  {
   "cell_type": "code",
   "execution_count": 96,
   "metadata": {},
   "outputs": [
    {
     "data": {
      "text/plain": [
       "0.6761123395732433"
      ]
     },
     "execution_count": 96,
     "metadata": {},
     "output_type": "execute_result"
    }
   ],
   "source": [
    "poly = PolynomialFeatures(degree=2)\n",
    "poly_variables = poly.fit_transform(X)\n",
    "\n",
    "X_train, X_test, y_train, y_test = train_test_split(poly_variables, y, shuffle=True, train_size=0.85, random_state=42, stratify=X['smoker'])\n",
    "knn = KNeighborsRegressor(algorithm='kd_tree', metric='cityblock', n_neighbors=11, weights='distance').fit(X_train, y_train)\n",
    "score = knn.score(X_test, y_test)\n",
    "score"
   ]
  }
 ],
 "metadata": {
  "kernelspec": {
   "display_name": ".venv",
   "language": "python",
   "name": "python3"
  },
  "language_info": {
   "codemirror_mode": {
    "name": "ipython",
    "version": 3
   },
   "file_extension": ".py",
   "mimetype": "text/x-python",
   "name": "python",
   "nbconvert_exporter": "python",
   "pygments_lexer": "ipython3",
   "version": "3.12.3"
  }
 },
 "nbformat": 4,
 "nbformat_minor": 2
}
